{
 "cells": [
  {
   "cell_type": "code",
   "execution_count": 58,
   "id": "21385fd9",
   "metadata": {},
   "outputs": [
    {
     "name": "stdout",
     "output_type": "stream",
     "text": [
      "----------------\n",
      "ॐ श्री गणेशाय नम:\n",
      "----------------\n"
     ]
    }
   ],
   "source": [
    "print(\"----------------\")\n",
    "print(\"ॐ श्री गणेशाय नम:\")\n",
    "print(\"----------------\")"
   ]
  },
  {
   "cell_type": "markdown",
   "id": "748fdf49",
   "metadata": {},
   "source": [
    "# Topics\n",
    "         1. Python Basic Syntax\n",
    "         2. Variable Declaration\n",
    "         3. Arithmetic Operator (+, -, *, /, //, %)\n",
    "         4. Bitwise Operator (&, |, ^, >>, <<, ~)\n",
    "         5. Comparison Operator (==, !=, >, <, >=, <=)\n",
    "         6. Assingment Operator (=, +=, -=, /=, //=)\n",
    "         7. Logical Operator (and, or, not)\n",
    "         8. Identify Operator (is, isnot)\n",
    "         9. Membership Operator (in, not in)\n",
    "         10. if-else"
   ]
  },
  {
   "cell_type": "markdown",
   "id": "b04eba00",
   "metadata": {},
   "source": [
    "# Python Tutorial"
   ]
  },
  {
   "cell_type": "markdown",
   "id": "8d0034c9",
   "metadata": {},
   "source": [
    "# 1 : Hello World"
   ]
  },
  {
   "cell_type": "code",
   "execution_count": 6,
   "id": "24607317",
   "metadata": {},
   "outputs": [
    {
     "name": "stdout",
     "output_type": "stream",
     "text": [
      "Hello World!!\n"
     ]
    }
   ],
   "source": [
    "# Hello world\n",
    "\n",
    "print(\"Hello World!!\")"
   ]
  },
  {
   "cell_type": "markdown",
   "id": "1da38e91",
   "metadata": {},
   "source": [
    "### 1.1 : Assingnment - Write to print your name two times"
   ]
  },
  {
   "cell_type": "code",
   "execution_count": 7,
   "id": "0a6074e9",
   "metadata": {},
   "outputs": [
    {
     "name": "stdout",
     "output_type": "stream",
     "text": [
      "Harsh\n",
      "Harsh\n"
     ]
    }
   ],
   "source": [
    "print(\"Harsh\")\n",
    "print(\"Harsh\")"
   ]
  },
  {
   "cell_type": "markdown",
   "id": "c001f791",
   "metadata": {},
   "source": [
    "### 1.2 : Variable declaration and print it"
   ]
  },
  {
   "cell_type": "code",
   "execution_count": 8,
   "id": "59af215d",
   "metadata": {},
   "outputs": [
    {
     "data": {
      "text/plain": [
       "300"
      ]
     },
     "execution_count": 8,
     "metadata": {},
     "output_type": "execute_result"
    }
   ],
   "source": [
    "a = 300\n",
    "a    # Print the value of a only"
   ]
  },
  {
   "cell_type": "markdown",
   "id": "c74200f8",
   "metadata": {},
   "source": [
    "##### ** If any print statement is not written than it print last line statement **"
   ]
  },
  {
   "cell_type": "code",
   "execution_count": 9,
   "id": "3ed0d0f6",
   "metadata": {},
   "outputs": [
    {
     "data": {
      "text/plain": [
       "'Shyam'"
      ]
     },
     "execution_count": 9,
     "metadata": {},
     "output_type": "execute_result"
    }
   ],
   "source": [
    "a = 300    \n",
    "a\n",
    "b = \"Shyam\"\n",
    "b             # Print the value of b"
   ]
  },
  {
   "cell_type": "code",
   "execution_count": 10,
   "id": "a0f4e984",
   "metadata": {},
   "outputs": [
    {
     "name": "stdout",
     "output_type": "stream",
     "text": [
      "a --> 300\n",
      "b --> Shyam\n"
     ]
    }
   ],
   "source": [
    "a = 300\n",
    "a\n",
    "b = \"Shyam\"\n",
    "b\n",
    "print(\"a -->\", a)     # Print the value of a\n",
    "print(\"b -->\", b)     # Print the vlaue of b\n",
    "#print(f\"a is {a} and b is {b}\")"
   ]
  },
  {
   "cell_type": "markdown",
   "id": "78899138",
   "metadata": {},
   "source": [
    "### 1.3 Error (Indentation Error)"
   ]
  },
  {
   "cell_type": "code",
   "execution_count": 2,
   "id": "cea2f1e2",
   "metadata": {},
   "outputs": [
    {
     "name": "stdout",
     "output_type": "stream",
     "text": [
      "a --> 20\n"
     ]
    }
   ],
   "source": [
    "a = 20          # No Error\n",
    "print(\"a -->\", a)"
   ]
  },
  {
   "cell_type": "code",
   "execution_count": 3,
   "id": "1b014b0c",
   "metadata": {},
   "outputs": [
    {
     "ename": "IndentationError",
     "evalue": "unexpected indent (1026064955.py, line 3)",
     "output_type": "error",
     "traceback": [
      "\u001b[1;36m  File \u001b[1;32m\"C:\\Users\\hk821\\AppData\\Local\\Temp\\ipykernel_4576\\1026064955.py\"\u001b[1;36m, line \u001b[1;32m3\u001b[0m\n\u001b[1;33m    b = 30\u001b[0m\n\u001b[1;37m    ^\u001b[0m\n\u001b[1;31mIndentationError\u001b[0m\u001b[1;31m:\u001b[0m unexpected indent\n"
     ]
    }
   ],
   "source": [
    "a = 20\n",
    "print(\"a -->\", a)\n",
    " b = 30\n",
    "print(\"b -->\", b)"
   ]
  },
  {
   "cell_type": "markdown",
   "id": "9bccc0e7",
   "metadata": {},
   "source": [
    "\n",
    "# 2 : Different types of Operators"
   ]
  },
  {
   "cell_type": "markdown",
   "id": "89e4573d",
   "metadata": {},
   "source": [
    "### 2.1. Arithmetic Operator ( -, +, *, /, //, **, %)"
   ]
  },
  {
   "cell_type": "markdown",
   "id": "3a597247",
   "metadata": {},
   "source": [
    "#### 2.1.1 Use of +, -, *, /, %"
   ]
  },
  {
   "cell_type": "code",
   "execution_count": 4,
   "id": "525b91c1",
   "metadata": {},
   "outputs": [
    {
     "name": "stdout",
     "output_type": "stream",
     "text": [
      "220 + 16 --> 236\n",
      "220 - 16 --> 204\n",
      "220 * 16 --> 3520\n",
      "220 / 16 --> 13.75\n"
     ]
    }
   ],
   "source": [
    "a = 220\n",
    "b = 16\n",
    "\n",
    "c = a + b # Use of +\n",
    "print(a, \"+\", b, \"-->\", c)\n",
    "\n",
    "c = a - b # Use of -\n",
    "print(a, \"-\", b, \"-->\", c)\n",
    "\n",
    "c = a * b # Use of *\n",
    "print(a, \"*\", b, \"-->\", c)\n",
    "\n",
    "c = a / b # Use of /\n",
    "print(a, \"/\", b, \"-->\", c)"
   ]
  },
  {
   "cell_type": "markdown",
   "id": "839b8a70",
   "metadata": {},
   "source": [
    "#### 2.1.2 Use of / and //"
   ]
  },
  {
   "cell_type": "code",
   "execution_count": 15,
   "id": "70e3bfab",
   "metadata": {},
   "outputs": [
    {
     "name": "stdout",
     "output_type": "stream",
     "text": [
      "220  / 16 --> 13.75\n",
      "220 // 16 --> 13\n"
     ]
    }
   ],
   "source": [
    "a = 220\n",
    "b = 16\n",
    "\n",
    "c = a / b # Use of /\n",
    "print(a, \" /\", b, \"-->\", c)\n",
    "\n",
    "c = a // b  # Use of //\n",
    "print(a, \"//\", b, \"-->\", c)"
   ]
  },
  {
   "cell_type": "markdown",
   "id": "e4c6e15e",
   "metadata": {},
   "source": [
    "#### 2.1.3 Use of ** (power)"
   ]
  },
  {
   "cell_type": "code",
   "execution_count": 16,
   "id": "0ed9b8b9",
   "metadata": {},
   "outputs": [
    {
     "name": "stdout",
     "output_type": "stream",
     "text": [
      "9 ** 2 --> 81\n"
     ]
    }
   ],
   "source": [
    "a = 9\n",
    "b = 2\n",
    "\n",
    "c = a ** b # Use of **\n",
    "print(a, \"**\", b, \"-->\", c)"
   ]
  },
  {
   "cell_type": "code",
   "execution_count": 10,
   "id": "3849bf63",
   "metadata": {},
   "outputs": [
    {
     "name": "stdout",
     "output_type": "stream",
     "text": [
      "Enter First Number : 25\n",
      "Enter Second Number : 2\n",
      "--------------------------------------\n",
      "Output :  25 ** 2 --> 625\n"
     ]
    }
   ],
   "source": [
    "a = int(input(\"Enter First Number : \"))\n",
    "b = int(input(\"Enter Second Number : \"))\n",
    "c = a**b\n",
    "print(\"--------------------------------------\")\n",
    "print(\"Output : \", a, \"**\", b, \"-->\", c)"
   ]
  },
  {
   "cell_type": "markdown",
   "id": "973d1b04",
   "metadata": {},
   "source": [
    "### 2.2: Bitwise Operators (&, |, ~, >>, <<)"
   ]
  },
  {
   "cell_type": "markdown",
   "id": "ad46e122",
   "metadata": {},
   "source": [
    "#### 2.2.1 Use of & (and)\n",
    "    Sets each bit to 1 if both bits are 1.\n",
    "        0 & 0 = 0\n",
    "        0 & 1 = 0\n",
    "        1 & 1 = 1"
   ]
  },
  {
   "cell_type": "code",
   "execution_count": 17,
   "id": "000999a4",
   "metadata": {},
   "outputs": [
    {
     "name": "stdout",
     "output_type": "stream",
     "text": [
      "0 & 1 --> 0\n",
      "1 & 1 --> 1\n"
     ]
    }
   ],
   "source": [
    "# Example - 1\n",
    "a = 0\n",
    "b = 1\n",
    "d = 1\n",
    "\n",
    "c = a & b      #Use of &\n",
    "print(a, \"&\", b, \"-->\", c)\n",
    "\n",
    "c = d & b        #Use of &\n",
    "print(d, \"&\", b, \"-->\", c)"
   ]
  },
  {
   "cell_type": "code",
   "execution_count": 18,
   "id": "9d19289b",
   "metadata": {},
   "outputs": [
    {
     "name": "stdout",
     "output_type": "stream",
     "text": [
      "20 & 10 --> 0\n",
      "10 & 10 --> 10\n"
     ]
    }
   ],
   "source": [
    "# Example - 2\n",
    "a = 20\n",
    "b = 10\n",
    "d = 10\n",
    "\n",
    "c = a & b   # Use of &\n",
    "print(a, \"&\", b, \"-->\", c)\n",
    "\n",
    "c = d & b   # Use of &\n",
    "print(d, \"&\", b, \"-->\", c)"
   ]
  },
  {
   "cell_type": "markdown",
   "id": "ea440158",
   "metadata": {},
   "source": [
    "#### 2.2.2 Use of | (or)\n",
    "        Sets of each bit to 1 if one of the two bits is 1.\n",
    "             1 | 0 = 1\n",
    "             0 | 0 = 0\n",
    "             1 | 1 = 1"
   ]
  },
  {
   "cell_type": "code",
   "execution_count": 19,
   "id": "1e0d8ef8",
   "metadata": {},
   "outputs": [
    {
     "name": "stdout",
     "output_type": "stream",
     "text": [
      "0 | 1 --> 1\n",
      "1 | 1 --> 1\n"
     ]
    }
   ],
   "source": [
    "# Example 1\n",
    "a = 0\n",
    "b = 1\n",
    "d = 1\n",
    "\n",
    "c = a | b   #Use of |\n",
    "print(a, \"|\", b, \"-->\", c)\n",
    "\n",
    "c = d | b   #Use of |\n",
    "print(d, \"|\", b, \"-->\", c)"
   ]
  },
  {
   "cell_type": "code",
   "execution_count": 11,
   "id": "0f43ee58",
   "metadata": {},
   "outputs": [
    {
     "name": "stdout",
     "output_type": "stream",
     "text": [
      "24 | 10 --> 26\n",
      "10 | 10 --> 10\n"
     ]
    }
   ],
   "source": [
    "# Example 2\n",
    "a = 24\n",
    "b = 10\n",
    "d = 10\n",
    "\n",
    "c = a | b     # Use of |\n",
    "print(a, \"|\", b, \"-->\", c)\n",
    "\n",
    "c = d | b     # Use of |\n",
    "print(d, \"|\", b, \"-->\", c)"
   ]
  },
  {
   "cell_type": "markdown",
   "id": "ed2b2bab",
   "metadata": {},
   "source": [
    "#### 2.2.3 Use of ~ (Not)\n",
    "          Inverts all the bits."
   ]
  },
  {
   "cell_type": "code",
   "execution_count": 21,
   "id": "e1ac3229",
   "metadata": {},
   "outputs": [
    {
     "name": "stdout",
     "output_type": "stream",
     "text": [
      "~ 0 --> -1\n",
      "~ 1 --> -2\n"
     ]
    }
   ],
   "source": [
    "# Example 1\n",
    "a = 0\n",
    "b = 1\n",
    "\n",
    "c = ~a     # Use of ~\n",
    "print(\"~\", a, \"-->\", c)\n",
    "\n",
    "c = ~b     # Use of ~\n",
    "print(\"~\", b, \"-->\", c)"
   ]
  },
  {
   "cell_type": "code",
   "execution_count": 24,
   "id": "7e2e1071",
   "metadata": {},
   "outputs": [
    {
     "name": "stdout",
     "output_type": "stream",
     "text": [
      "~ 20 --> -21\n",
      "~ 10 --> -11\n"
     ]
    }
   ],
   "source": [
    "# Example 2\n",
    "a = 20\n",
    "b = 10\n",
    "\n",
    "c = ~a     # Use of ~\n",
    "print(\"~\", a, \"-->\", c)\n",
    "\n",
    "c = ~b     # Use of ~\n",
    "print(\"~\", b, \"-->\", c)"
   ]
  },
  {
   "cell_type": "markdown",
   "id": "2d90ed1a",
   "metadata": {},
   "source": [
    "#### 2.2.4 Use of ^ (XOR)\n",
    "          Use of ^ (XOR) --> Sets each bit to 1 if only one of two bits is 1."
   ]
  },
  {
   "cell_type": "code",
   "execution_count": 25,
   "id": "49103391",
   "metadata": {},
   "outputs": [
    {
     "name": "stdout",
     "output_type": "stream",
     "text": [
      "0 ^ 1 --> 1\n",
      "1 ^ 1 --> 0\n"
     ]
    }
   ],
   "source": [
    "# Example 1\n",
    "a = 0\n",
    "b = 1\n",
    "d = 1\n",
    "\n",
    "c = a ^ b    #Use of ^\n",
    "print(a, \"^\", b, \"-->\", c)\n",
    "\n",
    "c = d ^ b    #Use of ^\n",
    "print(d, \"^\", b, \"-->\", c)"
   ]
  },
  {
   "cell_type": "code",
   "execution_count": 26,
   "id": "4ee2a161",
   "metadata": {},
   "outputs": [
    {
     "name": "stdout",
     "output_type": "stream",
     "text": [
      "20 ^ 10 --> 30\n",
      "10 ^ 10 --> 0\n"
     ]
    }
   ],
   "source": [
    "# Example 2\n",
    "a = 20\n",
    "b = 10\n",
    "d = 10\n",
    "\n",
    "c = a ^ b # Use of ^\n",
    "print(a, \"^\", b, \"-->\", c)\n",
    "\n",
    "c = d ^ b   # Use of ^\n",
    "print(d, \"^\", b, \"-->\", c)"
   ]
  },
  {
   "cell_type": "markdown",
   "id": "34c71e9f",
   "metadata": {},
   "source": [
    "#### 2.2.5 Use >> (Right Shift)\n",
    "   Use of >> (right shift) --> Shift right by pushing copies of the leftmost bit in from the left, and let the rightmost bits fall off."
   ]
  },
  {
   "cell_type": "code",
   "execution_count": 1,
   "id": "d1a50c91",
   "metadata": {},
   "outputs": [
    {
     "name": "stdout",
     "output_type": "stream",
     "text": [
      "1 >> 1 --> 0\n",
      "1 >> 2 --> 0\n"
     ]
    }
   ],
   "source": [
    "# Example 1\n",
    "a = 1\n",
    "b = 1\n",
    "d = 2\n",
    "\n",
    "c = a >> b    # Use of >>\n",
    "print(a, \">>\", b, \"-->\", c)\n",
    "\n",
    "c = a >>d\n",
    "print(a, \">>\", d, \"-->\", c)"
   ]
  },
  {
   "cell_type": "code",
   "execution_count": 1,
   "id": "2eaadea4",
   "metadata": {},
   "outputs": [
    {
     "name": "stdout",
     "output_type": "stream",
     "text": [
      "24 >> 1 --> 12\n",
      "24 >> 2 --> 6\n"
     ]
    }
   ],
   "source": [
    "# Example 2\n",
    "a = 24\n",
    "b = 1\n",
    "d = 2\n",
    "\n",
    "c = a >> b     # Use of >>\n",
    "print(a, \">>\", b, \"-->\", c)\n",
    "\n",
    "c = a >> d\n",
    "print(a, \">>\", d, \"-->\", c)"
   ]
  },
  {
   "cell_type": "markdown",
   "id": "cac414d1",
   "metadata": {},
   "source": [
    "#### 2.2.6 Use << (Left Shift)\n",
    "    Use of << (Left Shift) --> Zero to fill left shift\n",
    "    Shift left by passing zeros in form the right and let the leftmost bits fall off."
   ]
  },
  {
   "cell_type": "code",
   "execution_count": 4,
   "id": "d893db83",
   "metadata": {},
   "outputs": [
    {
     "name": "stdout",
     "output_type": "stream",
     "text": [
      "1 << 1 --> 2\n",
      "1 << 2 --> 4\n"
     ]
    }
   ],
   "source": [
    "# Example 1\n",
    "a = 1\n",
    "b = 1\n",
    "d = 2\n",
    "\n",
    "c = a << b    # Use of <<\n",
    "print(a, \"<<\", b, \"-->\", c)\n",
    "\n",
    "c = a << d\n",
    "print(a, \"<<\", d, \"-->\", c)"
   ]
  },
  {
   "cell_type": "code",
   "execution_count": 5,
   "id": "08838574",
   "metadata": {},
   "outputs": [
    {
     "name": "stdout",
     "output_type": "stream",
     "text": [
      "20 << 1 --> 40\n",
      "20 << 2 --> 80\n"
     ]
    }
   ],
   "source": [
    "# Example 2\n",
    "a = 20\n",
    "b = 1\n",
    "d = 2\n",
    "\n",
    "c = a << b\n",
    "print(a, \"<<\", b, \"-->\", c)\n",
    "\n",
    "c = a << d\n",
    "print(a, \"<<\", d, \"-->\", c)"
   ]
  },
  {
   "cell_type": "markdown",
   "id": "0a71d143",
   "metadata": {},
   "source": [
    "### 2.3 Assingnment Operator (=, +=, -=, /=, //=)"
   ]
  },
  {
   "cell_type": "markdown",
   "id": "c310e6f8",
   "metadata": {},
   "source": [
    "#### 2.3.1 Use of +="
   ]
  },
  {
   "cell_type": "code",
   "execution_count": 6,
   "id": "990e98e4",
   "metadata": {},
   "outputs": [
    {
     "name": "stdout",
     "output_type": "stream",
     "text": [
      "a = 20\n",
      "a += --> 30\n"
     ]
    }
   ],
   "source": [
    "a = 20\n",
    "print(\"a =\", a)\n",
    "\n",
    "a += 10\n",
    "print(\"a += -->\", a)"
   ]
  },
  {
   "cell_type": "markdown",
   "id": "415de439",
   "metadata": {},
   "source": [
    "#### 2.3.2 Use of -="
   ]
  },
  {
   "cell_type": "code",
   "execution_count": 7,
   "id": "6da082d9",
   "metadata": {},
   "outputs": [
    {
     "name": "stdout",
     "output_type": "stream",
     "text": [
      "a = 20\n",
      "a -= --> 10\n"
     ]
    }
   ],
   "source": [
    "a = 20\n",
    "print(\"a =\", a)\n",
    "\n",
    "a -= 10\n",
    "print(\"a -= -->\", a)"
   ]
  },
  {
   "cell_type": "markdown",
   "id": "98682033",
   "metadata": {},
   "source": [
    "#### 2.3.3 Use of *="
   ]
  },
  {
   "cell_type": "code",
   "execution_count": 8,
   "id": "65329d85",
   "metadata": {},
   "outputs": [
    {
     "name": "stdout",
     "output_type": "stream",
     "text": [
      "a = 20\n",
      "a *= --> 200\n"
     ]
    }
   ],
   "source": [
    "a = 20\n",
    "print(\"a =\", a)\n",
    "\n",
    "a *= 10\n",
    "print(\"a *= -->\", a)"
   ]
  },
  {
   "cell_type": "markdown",
   "id": "e1a1e3b8",
   "metadata": {},
   "source": [
    "#### 2.3.4 Use of /="
   ]
  },
  {
   "cell_type": "code",
   "execution_count": 11,
   "id": "342f4654",
   "metadata": {},
   "outputs": [
    {
     "name": "stdout",
     "output_type": "stream",
     "text": [
      "\n",
      " a = 20\n",
      " a /= 10 --> 2.0\n",
      " a /= 20 --> 0.1\n",
      " a //= 10 --> 0.0\n"
     ]
    }
   ],
   "source": [
    "a = 20\n",
    "print(\"\\n a =\", a)\n",
    "\n",
    "a /= 10\n",
    "print(\" a /= 10 -->\", a)\n",
    "\n",
    "a /= 20\n",
    "print(\" a /= 20 -->\", a)\n",
    "\n",
    "a //= 10\n",
    "print(\" a //= 10 -->\", a)"
   ]
  },
  {
   "cell_type": "markdown",
   "id": "f7010711",
   "metadata": {},
   "source": [
    "# 3 : Input from User"
   ]
  },
  {
   "cell_type": "markdown",
   "id": "0b7694fc",
   "metadata": {},
   "source": [
    "### 3.1 Input from user and print it"
   ]
  },
  {
   "cell_type": "code",
   "execution_count": 2,
   "id": "545ee738",
   "metadata": {},
   "outputs": [
    {
     "name": "stdout",
     "output_type": "stream",
     "text": [
      "Enter Anything(Name/Number) : harsh\n",
      "\n",
      "Your Input is               --> harsh\n"
     ]
    }
   ],
   "source": [
    "# Input from user and print it\n",
    "\n",
    "a = input(\"Enter Anything(Name/Number) : \")\n",
    "print(\"\\nYour Input is               -->\", a)"
   ]
  },
  {
   "cell_type": "markdown",
   "id": "f0e6ce0c",
   "metadata": {},
   "source": [
    "### 3.2 Concatinate two Strings"
   ]
  },
  {
   "cell_type": "code",
   "execution_count": 1,
   "id": "ccdf9157",
   "metadata": {},
   "outputs": [
    {
     "name": "stdout",
     "output_type": "stream",
     "text": [
      "Enter First String  : harsh\n",
      "Enter Second String : kumar\n",
      " \n",
      "harsh  +  kumar --> harshkumar\n"
     ]
    }
   ],
   "source": [
    "# Concatinate two strings\n",
    "\n",
    "a = input(\"Enter First String  : \")\n",
    "b = input(\"Enter Second String : \")\n",
    "\n",
    "c = a + b    # Concatinate two strings\n",
    "print(\" \")\n",
    "print(a , \" + \", b , \"-->\", c)"
   ]
  },
  {
   "cell_type": "markdown",
   "id": "73b7ec7a",
   "metadata": {},
   "source": [
    "### Re-Run the above code and input two numbers"
   ]
  },
  {
   "cell_type": "markdown",
   "id": "cd1a99cc",
   "metadata": {},
   "source": [
    "### 3.3 Input two numbers from user and add them"
   ]
  },
  {
   "cell_type": "code",
   "execution_count": 3,
   "id": "266b5ec6",
   "metadata": {},
   "outputs": [
    {
     "name": "stdout",
     "output_type": "stream",
     "text": [
      "Enter the First Number : 15\n",
      "Enter the Second Number : 10\n",
      "15 + 10 -->  25\n"
     ]
    }
   ],
   "source": [
    "# Input the numbers from user and add them\n",
    "\n",
    "a = int(input(\"Enter the First Number : \"))\n",
    "b = int(input(\"Enter the Second Number : \"))\n",
    "\n",
    "c = a + b\n",
    "print(a, \"+\", b, \"--> \", c)"
   ]
  },
  {
   "cell_type": "markdown",
   "id": "18112e48",
   "metadata": {},
   "source": [
    "### 3.4 Concatinate Strings and Number"
   ]
  },
  {
   "cell_type": "markdown",
   "id": "fde7f4cb",
   "metadata": {},
   "source": [
    "#### 3.4.1 Concatinate String and Number"
   ]
  },
  {
   "cell_type": "code",
   "execution_count": 4,
   "id": "d5b3dca1",
   "metadata": {},
   "outputs": [
    {
     "ename": "TypeError",
     "evalue": "can only concatenate str (not \"int\") to str",
     "output_type": "error",
     "traceback": [
      "\u001b[1;31m---------------------------------------------------------------------------\u001b[0m",
      "\u001b[1;31mTypeError\u001b[0m                                 Traceback (most recent call last)",
      "\u001b[1;32m~\\AppData\\Local\\Temp\\ipykernel_5504\\2365418179.py\u001b[0m in \u001b[0;36m<module>\u001b[1;34m\u001b[0m\n\u001b[0;32m      1\u001b[0m \u001b[1;31m# Concatinate Strings and Number\u001b[0m\u001b[1;33m\u001b[0m\u001b[1;33m\u001b[0m\u001b[0m\n\u001b[0;32m      2\u001b[0m \u001b[1;33m\u001b[0m\u001b[0m\n\u001b[1;32m----> 3\u001b[1;33m \u001b[0mc\u001b[0m \u001b[1;33m=\u001b[0m \u001b[1;34m\"Ram\"\u001b[0m \u001b[1;33m+\u001b[0m \u001b[1;36m10\u001b[0m    \u001b[1;31m# Error: Different data type\u001b[0m\u001b[1;33m\u001b[0m\u001b[1;33m\u001b[0m\u001b[0m\n\u001b[0m\u001b[0;32m      4\u001b[0m \u001b[0mprint\u001b[0m\u001b[1;33m(\u001b[0m\u001b[0mc\u001b[0m\u001b[1;33m)\u001b[0m\u001b[1;33m\u001b[0m\u001b[1;33m\u001b[0m\u001b[0m\n",
      "\u001b[1;31mTypeError\u001b[0m: can only concatenate str (not \"int\") to str"
     ]
    }
   ],
   "source": [
    "# Concatinate Strings and Number\n",
    "\n",
    "c = \"Ram\" + 10    # Error: Different data type\n",
    "print(c)"
   ]
  },
  {
   "cell_type": "markdown",
   "id": "efb776c1",
   "metadata": {},
   "source": [
    "#### 3.4.2 Concatinate String and Number"
   ]
  },
  {
   "cell_type": "code",
   "execution_count": 5,
   "id": "12f157d8",
   "metadata": {},
   "outputs": [
    {
     "name": "stdout",
     "output_type": "stream",
     "text": [
      "c --> Ram10\n"
     ]
    }
   ],
   "source": [
    "c = \"Ram\" + \"10\"\n",
    "print(\"c -->\", c)"
   ]
  },
  {
   "cell_type": "markdown",
   "id": "fdb9a2c8",
   "metadata": {},
   "source": [
    "#### 3.4.3 Concatinate String and Number"
   ]
  },
  {
   "cell_type": "code",
   "execution_count": 6,
   "id": "3543f63e",
   "metadata": {},
   "outputs": [
    {
     "ename": "TypeError",
     "evalue": "unsupported operand type(s) for +: 'int' and 'str'",
     "output_type": "error",
     "traceback": [
      "\u001b[1;31m---------------------------------------------------------------------------\u001b[0m",
      "\u001b[1;31mTypeError\u001b[0m                                 Traceback (most recent call last)",
      "\u001b[1;32m~\\AppData\\Local\\Temp\\ipykernel_5504\\3912764546.py\u001b[0m in \u001b[0;36m<module>\u001b[1;34m\u001b[0m\n\u001b[0;32m      1\u001b[0m \u001b[0ma\u001b[0m \u001b[1;33m=\u001b[0m \u001b[1;36m10\u001b[0m\u001b[1;33m\u001b[0m\u001b[1;33m\u001b[0m\u001b[0m\n\u001b[0;32m      2\u001b[0m \u001b[0mb\u001b[0m \u001b[1;33m=\u001b[0m \u001b[1;34m\"Ram\"\u001b[0m\u001b[1;33m\u001b[0m\u001b[1;33m\u001b[0m\u001b[0m\n\u001b[1;32m----> 3\u001b[1;33m \u001b[0mc\u001b[0m \u001b[1;33m=\u001b[0m \u001b[0ma\u001b[0m \u001b[1;33m+\u001b[0m \u001b[0mb\u001b[0m       \u001b[1;31m# Error: Different data type\u001b[0m\u001b[1;33m\u001b[0m\u001b[1;33m\u001b[0m\u001b[0m\n\u001b[0m\u001b[0;32m      4\u001b[0m \u001b[0mprint\u001b[0m\u001b[1;33m(\u001b[0m\u001b[0ma\u001b[0m\u001b[1;33m,\u001b[0m \u001b[1;34m\"+\"\u001b[0m\u001b[1;33m,\u001b[0m \u001b[0mb\u001b[0m\u001b[1;33m,\u001b[0m \u001b[1;34m\"-->\"\u001b[0m\u001b[1;33m,\u001b[0m \u001b[0mc\u001b[0m\u001b[1;33m)\u001b[0m\u001b[1;33m\u001b[0m\u001b[1;33m\u001b[0m\u001b[0m\n",
      "\u001b[1;31mTypeError\u001b[0m: unsupported operand type(s) for +: 'int' and 'str'"
     ]
    }
   ],
   "source": [
    "a = 10\n",
    "b = \"Ram\"\n",
    "c = a + b       # Error: Different data type\n",
    "print(a, \"+\", b, \"-->\", c)"
   ]
  },
  {
   "cell_type": "markdown",
   "id": "e0973efc",
   "metadata": {},
   "source": [
    "#### 3.4.4 Concatinate String and Number"
   ]
  },
  {
   "cell_type": "code",
   "execution_count": 8,
   "id": "873dab74",
   "metadata": {},
   "outputs": [
    {
     "name": "stdout",
     "output_type": "stream",
     "text": [
      "10 + Ram --> 10Ram\n"
     ]
    }
   ],
   "source": [
    "a = 10\n",
    "b = \"Ram\"\n",
    "c = str(a) + b\n",
    "print(a, \"+\", b, \"-->\", c)"
   ]
  },
  {
   "cell_type": "markdown",
   "id": "b0301be4",
   "metadata": {},
   "source": [
    "# Assingnment 3.1: WAP to add three numbers, Inputs from user and print result"
   ]
  },
  {
   "cell_type": "code",
   "execution_count": 9,
   "id": "9315a1b3",
   "metadata": {},
   "outputs": [
    {
     "name": "stdout",
     "output_type": "stream",
     "text": [
      "Enter the First Number : 10\n",
      "Enter the Second Number : 10\n",
      "Enter the Second Number : 10\n",
      "10 + 10 + 10 --> 30\n"
     ]
    }
   ],
   "source": [
    "# Program :- 1\n",
    "a = int(input(\"Enter the First Number : \"))\n",
    "b = int(input(\"Enter the Second Number : \"))\n",
    "c = int(input(\"Enter the Second Number : \"))\n",
    "\n",
    "d = a + b + c\n",
    "print(a, \"+\", b, \"+\", c, \"-->\", d)"
   ]
  },
  {
   "cell_type": "code",
   "execution_count": 16,
   "id": "ed1f5e0b",
   "metadata": {},
   "outputs": [
    {
     "name": "stdout",
     "output_type": "stream",
     "text": [
      "Enter the First Number : Ha\n",
      "Enter the Second Number : r\n",
      "Enter the Second Number : sh\n",
      "Harsh\n"
     ]
    }
   ],
   "source": [
    "# Program :- 2\n",
    "a = input(\"Enter the First Number : \")\n",
    "b = input(\"Enter the Second Number : \")\n",
    "c = input(\"Enter the Second Number : \")\n",
    "\n",
    "d = a + b + c\n",
    "print(d)"
   ]
  },
  {
   "cell_type": "markdown",
   "id": "354e7b46",
   "metadata": {},
   "source": [
    "# Assingnment 3.2: WAP to concatinate three strings, inputs from user and print"
   ]
  },
  {
   "cell_type": "code",
   "execution_count": 12,
   "id": "a4b094fe",
   "metadata": {},
   "outputs": [
    {
     "name": "stdout",
     "output_type": "stream",
     "text": [
      "10 + 25 + Harsh --> 35Harsh\n"
     ]
    }
   ],
   "source": [
    "a = 10\n",
    "b = 25\n",
    "c = \"Harsh\"\n",
    "\n",
    "d = str(a + b) + c\n",
    "print(a, \"+\", b, \"+\", c, \"-->\", d)"
   ]
  },
  {
   "cell_type": "code",
   "execution_count": 11,
   "id": "8553c8c9",
   "metadata": {},
   "outputs": [
    {
     "name": "stdout",
     "output_type": "stream",
     "text": [
      "Harsh +  Kumar + 41 --> Harsh Kumar41\n"
     ]
    }
   ],
   "source": [
    "a = \"Harsh\"\n",
    "b = \" Kumar\"\n",
    "c = 41\n",
    "\n",
    "d = a + b + str(c)\n",
    "print (a, \"+\", b, \"+\", c, \"-->\", d)"
   ]
  },
  {
   "cell_type": "markdown",
   "id": "7cc2c843",
   "metadata": {},
   "source": [
    "# 4 : If-Else-Conditional Checking"
   ]
  },
  {
   "cell_type": "markdown",
   "id": "6e3fbf31",
   "metadata": {},
   "source": [
    "### 4.1 Input two numbers from user and compare them"
   ]
  },
  {
   "cell_type": "code",
   "execution_count": 17,
   "id": "db2689f7",
   "metadata": {},
   "outputs": [
    {
     "name": "stdout",
     "output_type": "stream",
     "text": [
      "Enter the First Number : 15\n",
      "Enter the Second Number : 30\n",
      "15 < 30\n"
     ]
    }
   ],
   "source": [
    "a = int(input(\"Enter the First Number : \"))\n",
    "b = int(input(\"Enter the Second Number : \"))\n",
    "if a > b:\n",
    "    print(a, \">\", b)\n",
    "else:\n",
    "    print(a, \"<\", b)"
   ]
  },
  {
   "cell_type": "code",
   "execution_count": 17,
   "id": "a8573982",
   "metadata": {},
   "outputs": [
    {
     "name": "stdout",
     "output_type": "stream",
     "text": [
      "False\n",
      "True\n"
     ]
    }
   ],
   "source": [
    "a = 10\n",
    "b = 20\n",
    "print(a == b)\n",
    "print(a != b)"
   ]
  },
  {
   "cell_type": "markdown",
   "id": "536b156e",
   "metadata": {},
   "source": [
    "### 4.2 Check weather a number is odd or even"
   ]
  },
  {
   "cell_type": "code",
   "execution_count": 19,
   "id": "97e58467",
   "metadata": {},
   "outputs": [
    {
     "name": "stdout",
     "output_type": "stream",
     "text": [
      "Enter a Number : 11\n",
      "11 is odd\n"
     ]
    }
   ],
   "source": [
    "# Example 1 :-\n",
    "\n",
    "a = int(input(\"Enter a Number : \"))\n",
    "if a % 2 == 0:\n",
    "    print(a, \"is even\")\n",
    "else:\n",
    "    print(a, \"is odd\")"
   ]
  },
  {
   "cell_type": "code",
   "execution_count": 21,
   "id": "34f8772f",
   "metadata": {},
   "outputs": [
    {
     "name": "stdout",
     "output_type": "stream",
     "text": [
      "Enter a Number : 10\n",
      "10 is even\n"
     ]
    }
   ],
   "source": [
    "# Example 2 :-\n",
    "\n",
    "a = int(input(\"Enter a Number : \"))\n",
    "if a % 2 != 0:\n",
    "    print(a, \"is odd\")\n",
    "else:\n",
    "    print(a, \"is even\")"
   ]
  },
  {
   "cell_type": "markdown",
   "id": "532fff19",
   "metadata": {},
   "source": [
    "### 4.3 Conditional Checking - Compare strings"
   ]
  },
  {
   "cell_type": "code",
   "execution_count": 2,
   "id": "521b08d8",
   "metadata": {},
   "outputs": [
    {
     "name": "stdout",
     "output_type": "stream",
     "text": [
      "Enter First String : HI\n",
      "Enter Second String : HEY\n",
      "a > b\n"
     ]
    }
   ],
   "source": [
    "a = input(\"Enter First String : \")\n",
    "b = input(\"Enter Second String : \")\n",
    "\n",
    "if a == b:\n",
    "    print(\"a == b\")\n",
    "elif a >= b:\n",
    "    print(\"a > b\")\n",
    "else:\n",
    "    print(\"a < b\")\n",
    "    x = 70    # in the else block\n",
    "    y = 80    # in the else block\n",
    "z = 90        # out of the else block"
   ]
  },
  {
   "cell_type": "markdown",
   "id": "8c5aa8df",
   "metadata": {},
   "source": [
    "### 4.4 Logical Operators (and, or, not)"
   ]
  },
  {
   "cell_type": "markdown",
   "id": "5f6c47e7",
   "metadata": {},
   "source": [
    "#### 4.4.1 Use of and"
   ]
  },
  {
   "cell_type": "code",
   "execution_count": 18,
   "id": "57f07150",
   "metadata": {},
   "outputs": [
    {
     "name": "stdout",
     "output_type": "stream",
     "text": [
      "On Hold\n"
     ]
    }
   ],
   "source": [
    "a = 10\n",
    "b = 23\n",
    "\n",
    "if a == 10 and b == 20:\n",
    "    print(\"Accepted\")\n",
    "elif a >= b:\n",
    "    print(\"Rejected\")\n",
    "else:\n",
    "    print(\"On Hold\")"
   ]
  },
  {
   "cell_type": "markdown",
   "id": "6f33b673",
   "metadata": {},
   "source": [
    "#### 4.4.2 Use of and"
   ]
  },
  {
   "cell_type": "code",
   "execution_count": 23,
   "id": "82db9446",
   "metadata": {},
   "outputs": [
    {
     "name": "stdout",
     "output_type": "stream",
     "text": [
      "a and b --> 0\n",
      "a & b   --> 0\n"
     ]
    }
   ],
   "source": [
    "a = 0\n",
    "b = 0\n",
    "print(\"a and b -->\", a and b)\n",
    "print(\"a & b   -->\", a & b)"
   ]
  },
  {
   "cell_type": "markdown",
   "id": "1ea7988d",
   "metadata": {},
   "source": [
    "### Re-Run the above code with a = 1 and b = 0 | a = 0 and b = 1 | a = 1 and b = 1"
   ]
  },
  {
   "cell_type": "markdown",
   "id": "cc4e6563",
   "metadata": {},
   "source": [
    "#### 4.4.3 Use of and"
   ]
  },
  {
   "cell_type": "markdown",
   "id": "b8742166",
   "metadata": {},
   "source": [
    "a = 1\n",
    "b = 1\n",
    "print(\"a and b -->\", a and b)\n",
    "print(\"a & b -->\", a & b)"
   ]
  },
  {
   "cell_type": "markdown",
   "id": "1abe90a5",
   "metadata": {},
   "source": [
    "#### 4.4.4 Use of or"
   ]
  },
  {
   "cell_type": "code",
   "execution_count": 25,
   "id": "1ddbcafe",
   "metadata": {},
   "outputs": [
    {
     "name": "stdout",
     "output_type": "stream",
     "text": [
      "Accepted\n"
     ]
    }
   ],
   "source": [
    "a = 20\n",
    "b = 30\n",
    "\n",
    "if a ==  20 or b == 20:\n",
    "    print(\"Accepted\")\n",
    "else:\n",
    "    print(\"Rejected\")"
   ]
  },
  {
   "cell_type": "markdown",
   "id": "7af3f5af",
   "metadata": {},
   "source": [
    "#### 4.4.5 Use of or"
   ]
  },
  {
   "cell_type": "code",
   "execution_count": 22,
   "id": "2d3c938f",
   "metadata": {},
   "outputs": [
    {
     "name": "stdout",
     "output_type": "stream",
     "text": [
      "a or b  --> 0\n",
      "a | b   --> 0\n"
     ]
    }
   ],
   "source": [
    "a = 0\n",
    "b = 0\n",
    "print(\"a or b  -->\", a or b)\n",
    "print(\"a | b   -->\", a | b)"
   ]
  },
  {
   "cell_type": "markdown",
   "id": "f8c07ca9",
   "metadata": {},
   "source": [
    "#### 4.4.6 Use of or"
   ]
  },
  {
   "cell_type": "code",
   "execution_count": 19,
   "id": "b08e242b",
   "metadata": {},
   "outputs": [
    {
     "name": "stdout",
     "output_type": "stream",
     "text": [
      "a or b --> 10\n",
      "a | b  --> 30\n"
     ]
    }
   ],
   "source": [
    "a = 10\n",
    "b = 20\n",
    "print(\"a or b -->\", a or b)\n",
    "print(\"a | b  -->\", a | b)"
   ]
  },
  {
   "cell_type": "markdown",
   "id": "92f52d05",
   "metadata": {},
   "source": [
    "#### 4.4.7 Use of not"
   ]
  },
  {
   "cell_type": "code",
   "execution_count": 21,
   "id": "9a05c477",
   "metadata": {},
   "outputs": [
    {
     "name": "stdout",
     "output_type": "stream",
     "text": [
      "a      --> True\n",
      "not a  --> False\n"
     ]
    }
   ],
   "source": [
    "# Example 1 :-\n",
    "a = True\n",
    "print(\"a      -->\", a)\n",
    "print(\"not a  -->\", not a)"
   ]
  },
  {
   "cell_type": "code",
   "execution_count": 20,
   "id": "ddcb8e27",
   "metadata": {},
   "outputs": [
    {
     "name": "stdout",
     "output_type": "stream",
     "text": [
      "a      --> 1\n",
      "not a  --> False\n"
     ]
    }
   ],
   "source": [
    "# Example 2 :-\n",
    "a = 1\n",
    "print(\"a      -->\", a)\n",
    "print(\"not a  -->\", not a)"
   ]
  },
  {
   "cell_type": "markdown",
   "id": "2f5602c5",
   "metadata": {},
   "source": [
    "### 4.5 Identify Operators (is, is not)"
   ]
  },
  {
   "cell_type": "code",
   "execution_count": 4,
   "id": "025167e4",
   "metadata": {},
   "outputs": [
    {
     "name": "stdout",
     "output_type": "stream",
     "text": [
      "a is a      --> True\n",
      "a is not a  --> False\n",
      "--------------------\n",
      "a is b      --> True\n",
      "a is not b  --> False\n"
     ]
    }
   ],
   "source": [
    "a = 10\n",
    "b = 20\n",
    "print(\"a is a      -->\", a is a )\n",
    "print(\"a is not a  -->\", a is not a)\n",
    "print(\"--------------------\")\n",
    "print(\"a is b      -->\", a is a)\n",
    "print(\"a is not b  -->\", a is not a)"
   ]
  },
  {
   "cell_type": "markdown",
   "id": "abb0d47b",
   "metadata": {},
   "source": [
    "### 4.6 Membership Operator (in, not in)"
   ]
  },
  {
   "cell_type": "code",
   "execution_count": 7,
   "id": "bb30e332",
   "metadata": {},
   "outputs": [
    {
     "name": "stdout",
     "output_type": "stream",
     "text": [
      "10 in a     --> True\n",
      "40 in a     --> False\n",
      "---------------------\n",
      "10 not in a --> False\n",
      "40 not in a --> True\n"
     ]
    }
   ],
   "source": [
    "a = [10, 20, 30]\n",
    "\n",
    "print(\"10 in a     -->\", 10 in a)\n",
    "print(\"40 in a     -->\", 40 in a)\n",
    "print(\"---------------------\")\n",
    "print(\"10 not in a -->\", 10 not in a)\n",
    "print(\"40 not in a -->\", 40 not in a)"
   ]
  },
  {
   "cell_type": "markdown",
   "id": "211c49d7",
   "metadata": {},
   "source": [
    "# 4.1: WAP to find max among three numbers and input from user [Hint : Try max() function)"
   ]
  },
  {
   "cell_type": "code",
   "execution_count": 16,
   "id": "ed95745d",
   "metadata": {},
   "outputs": [
    {
     "name": "stdout",
     "output_type": "stream",
     "text": [
      "Enter First Number : 10\n",
      "Enter Second Number : 20\n",
      "Enter Third Number : 30\n",
      "30\n"
     ]
    }
   ],
   "source": [
    "a = int(input(\"Enter First Number : \"))\n",
    "b = int(input(\"Enter Second Number : \"))\n",
    "c = int(input(\"Enter Third Number : \"))\n",
    "print(max(a, b, c))"
   ]
  },
  {
   "cell_type": "code",
   "execution_count": 13,
   "id": "c1987a03",
   "metadata": {},
   "outputs": [
    {
     "name": "stdout",
     "output_type": "stream",
     "text": [
      "Enter First Number : 20\n",
      "Enter Second Number : 30\n",
      "Enter Third Number : 50\n",
      "50\n"
     ]
    }
   ],
   "source": [
    "a = int(input(\"Enter First Number : \"))\n",
    "b = int(input(\"Enter Second Number : \"))\n",
    "c = int(input(\"Enter Third Number : \"))\n",
    "if(a > b and a > c):\n",
    "    print(a)\n",
    "elif(b > a and b > c):\n",
    "    print(b)\n",
    "else:\n",
    "    print(c)"
   ]
  },
  {
   "cell_type": "markdown",
   "id": "6d9138cd",
   "metadata": {},
   "source": [
    "# Basics of Python - Part - 2"
   ]
  },
  {
   "cell_type": "markdown",
   "id": "8afcc8bf",
   "metadata": {},
   "source": [
    "## ***LOOPS, FUNCTIONS, MATHS LIBRARY & STRINGS***\n",
    "      Topics :-\n",
    "          1. While Loop\n",
    "          2. For Loop\n",
    "          3. Functions\n",
    "          4. Math Library\n",
    "          5. String Handling"
   ]
  },
  {
   "cell_type": "markdown",
   "id": "1543686a",
   "metadata": {},
   "source": [
    "### 1. While Loop :-"
   ]
  },
  {
   "cell_type": "code",
   "execution_count": 17,
   "id": "9eb32e26",
   "metadata": {},
   "outputs": [
    {
     "name": "stdout",
     "output_type": "stream",
     "text": [
      "1\n",
      "2\n",
      "3\n",
      "4\n",
      "5\n",
      "6\n",
      "7\n",
      "8\n",
      "9\n",
      "10\n"
     ]
    }
   ],
   "source": [
    "# Print 1 to 10\n",
    "\n",
    "i = 1\n",
    "while i <= 10:\n",
    "    print(i)\n",
    "    i = i + 1"
   ]
  },
  {
   "cell_type": "code",
   "execution_count": 19,
   "id": "d4beb1f9",
   "metadata": {},
   "outputs": [
    {
     "name": "stdout",
     "output_type": "stream",
     "text": [
      "10\n",
      "9\n",
      "8\n",
      "7\n",
      "6\n",
      "5\n",
      "4\n",
      "3\n",
      "2\n",
      "1\n"
     ]
    }
   ],
   "source": [
    "# Print 10 to 1\n",
    "\n",
    "i = 10\n",
    "while i >= 1:\n",
    "    print(i)\n",
    "    i = i - 1"
   ]
  },
  {
   "cell_type": "code",
   "execution_count": 22,
   "id": "31b00f37",
   "metadata": {},
   "outputs": [
    {
     "name": "stdout",
     "output_type": "stream",
     "text": [
      "10\n",
      "9\n",
      "8\n",
      "7\n",
      "6\n",
      "5\n",
      "4\n",
      "3\n",
      "2\n",
      "1\n"
     ]
    }
   ],
   "source": [
    "# Print 10 to 1\n",
    "\n",
    "i = 10\n",
    "while (i > 0):\n",
    "    print(i)\n",
    "    i -= 1\n",
    "    x = 80\n",
    "y = 90"
   ]
  },
  {
   "cell_type": "markdown",
   "id": "46240892",
   "metadata": {},
   "source": [
    "### 2. RANGE FUNCTION :-"
   ]
  },
  {
   "cell_type": "code",
   "execution_count": 25,
   "id": "71ee44ee",
   "metadata": {},
   "outputs": [
    {
     "data": {
      "text/plain": [
       "range(0, 10)"
      ]
     },
     "execution_count": 25,
     "metadata": {},
     "output_type": "execute_result"
    }
   ],
   "source": [
    "range(10)"
   ]
  },
  {
   "cell_type": "code",
   "execution_count": 30,
   "id": "7f269d4b",
   "metadata": {},
   "outputs": [
    {
     "ename": "TypeError",
     "evalue": "'list' object is not callable",
     "output_type": "error",
     "traceback": [
      "\u001b[1;31m---------------------------------------------------------------------------\u001b[0m",
      "\u001b[1;31mTypeError\u001b[0m                                 Traceback (most recent call last)",
      "\u001b[1;32m~\\AppData\\Local\\Temp\\ipykernel_13624\\1140976138.py\u001b[0m in \u001b[0;36m<module>\u001b[1;34m\u001b[0m\n\u001b[1;32m----> 1\u001b[1;33m \u001b[0mlist\u001b[0m\u001b[1;33m(\u001b[0m\u001b[0mrange\u001b[0m\u001b[1;33m(\u001b[0m\u001b[1;36m10\u001b[0m\u001b[1;33m)\u001b[0m\u001b[1;33m)\u001b[0m     \u001b[1;31m# This code is run on googlecollab in without any error\u001b[0m\u001b[1;33m\u001b[0m\u001b[1;33m\u001b[0m\u001b[0m\n\u001b[0m",
      "\u001b[1;31mTypeError\u001b[0m: 'list' object is not callable"
     ]
    }
   ],
   "source": [
    "list(range(10))     # This code is run on googlecollab in without any error"
   ]
  },
  {
   "cell_type": "code",
   "execution_count": 34,
   "id": "358fe9e0",
   "metadata": {},
   "outputs": [
    {
     "ename": "TypeError",
     "evalue": "'list' object is not callable",
     "output_type": "error",
     "traceback": [
      "\u001b[1;31m---------------------------------------------------------------------------\u001b[0m",
      "\u001b[1;31mTypeError\u001b[0m                                 Traceback (most recent call last)",
      "\u001b[1;32m~\\AppData\\Local\\Temp\\ipykernel_13624\\3229786475.py\u001b[0m in \u001b[0;36m<module>\u001b[1;34m\u001b[0m\n\u001b[0;32m      1\u001b[0m \u001b[1;31m# THIS CODE IS RU ON THE GOOGLECOLLAB\u001b[0m\u001b[1;33m\u001b[0m\u001b[1;33m\u001b[0m\u001b[0m\n\u001b[0;32m      2\u001b[0m \u001b[1;33m\u001b[0m\u001b[0m\n\u001b[1;32m----> 3\u001b[1;33m \u001b[0mprint\u001b[0m\u001b[1;33m(\u001b[0m\u001b[1;34m\"range(10)             -->\"\u001b[0m\u001b[1;33m,\u001b[0m \u001b[0mlist\u001b[0m\u001b[1;33m(\u001b[0m\u001b[0mrange\u001b[0m\u001b[1;33m(\u001b[0m\u001b[1;36m10\u001b[0m\u001b[1;33m)\u001b[0m\u001b[1;33m)\u001b[0m\u001b[1;33m)\u001b[0m\u001b[1;33m\u001b[0m\u001b[1;33m\u001b[0m\u001b[0m\n\u001b[0m\u001b[0;32m      4\u001b[0m \u001b[0mprint\u001b[0m\u001b[1;33m(\u001b[0m\u001b[1;34m\"range(0, 20)          -->\"\u001b[0m\u001b[1;33m,\u001b[0m \u001b[0mlist\u001b[0m\u001b[1;33m(\u001b[0m\u001b[0mrange\u001b[0m\u001b[1;33m(\u001b[0m\u001b[1;36m0\u001b[0m\u001b[1;33m,\u001b[0m \u001b[1;36m20\u001b[0m\u001b[1;33m)\u001b[0m\u001b[1;33m)\u001b[0m\u001b[1;33m)\u001b[0m\u001b[1;33m\u001b[0m\u001b[1;33m\u001b[0m\u001b[0m\n\u001b[0;32m      5\u001b[0m \u001b[0mprint\u001b[0m\u001b[1;33m(\u001b[0m\u001b[1;34m\"range(10, 20)         -->\"\u001b[0m\u001b[1;33m,\u001b[0m \u001b[0mlist\u001b[0m\u001b[1;33m(\u001b[0m\u001b[0mrange\u001b[0m\u001b[1;33m(\u001b[0m\u001b[1;36m10\u001b[0m\u001b[1;33m,\u001b[0m \u001b[1;36m20\u001b[0m\u001b[1;33m)\u001b[0m\u001b[1;33m)\u001b[0m\u001b[1;33m)\u001b[0m\u001b[1;33m\u001b[0m\u001b[1;33m\u001b[0m\u001b[0m\n",
      "\u001b[1;31mTypeError\u001b[0m: 'list' object is not callable"
     ]
    }
   ],
   "source": [
    "# THIS CODE IS RU ON THE GOOGLECOLLAB\n",
    "\n",
    "print(\"range(10)             -->\", list(range(10)))\n",
    "print(\"range(0, 20)          -->\", list(range(0, 20)))\n",
    "print(\"range(10, 20)         -->\", list(range(10, 20)))\n",
    "print(\"range(0, 20, 2)       -->\", list(range(0, 20, 2)))\n",
    "print(\"range(-10, -20, 2)    -->\", list(range(-10, -20, 2)))\n",
    "print(\"range(-10, -20, -2)   -->\", list(range(-10, -20, -2)))"
   ]
  },
  {
   "cell_type": "markdown",
   "id": "2673aa92",
   "metadata": {},
   "source": [
    "### 3. FOR LOOP :-"
   ]
  },
  {
   "cell_type": "code",
   "execution_count": 35,
   "id": "c1995406",
   "metadata": {},
   "outputs": [
    {
     "name": "stdout",
     "output_type": "stream",
     "text": [
      "1\n",
      "2\n",
      "3\n",
      "4\n",
      "5\n",
      "6\n",
      "7\n",
      "8\n",
      "9\n",
      "10\n"
     ]
    }
   ],
   "source": [
    "# Print 1 to 10\n",
    "\n",
    "for i in range(1, 11):\n",
    "    print(i)"
   ]
  },
  {
   "cell_type": "code",
   "execution_count": 36,
   "id": "ababc612",
   "metadata": {},
   "outputs": [
    {
     "name": "stdout",
     "output_type": "stream",
     "text": [
      "1\n",
      "3\n",
      "5\n",
      "7\n",
      "9\n",
      "11\n",
      "13\n",
      "15\n",
      "17\n",
      "19\n"
     ]
    }
   ],
   "source": [
    "# Print 1 to 20 with increment of 2\n",
    "\n",
    "for i in range(1, 21, 2):\n",
    "    print(i)"
   ]
  },
  {
   "cell_type": "code",
   "execution_count": 39,
   "id": "6ccd68e0",
   "metadata": {},
   "outputs": [],
   "source": [
    "# Print 0 to -10\n",
    "\n",
    "for i in range(0, -10, 1):\n",
    "    print(i)\n",
    "    \n",
    "# No output; why?\n",
    "# Because from 0 to till -10 going backwards but 1 is going to outwards"
   ]
  },
  {
   "cell_type": "code",
   "execution_count": 40,
   "id": "3201c178",
   "metadata": {},
   "outputs": [
    {
     "name": "stdout",
     "output_type": "stream",
     "text": [
      "0\n",
      "-1\n",
      "-2\n",
      "-3\n",
      "-4\n",
      "-5\n",
      "-6\n",
      "-7\n",
      "-8\n",
      "-9\n"
     ]
    }
   ],
   "source": [
    "# Print 0 to -10\n",
    "\n",
    "for i in range(0, -10, -1):\n",
    "    print(i)"
   ]
  },
  {
   "cell_type": "code",
   "execution_count": 41,
   "id": "d836f0c1",
   "metadata": {},
   "outputs": [
    {
     "name": "stdout",
     "output_type": "stream",
     "text": [
      "5 * 1 = 5\n",
      "5 * 2 = 10\n",
      "5 * 3 = 15\n",
      "5 * 4 = 20\n",
      "5 * 5 = 25\n",
      "5 * 6 = 30\n",
      "5 * 7 = 35\n",
      "5 * 8 = 40\n",
      "5 * 9 = 45\n",
      "5 * 10 = 50\n"
     ]
    }
   ],
   "source": [
    "# Table of 5\n",
    "\n",
    "for i in range(1, 11):\n",
    "    print(5, \"*\", i , \"=\", i * 5)"
   ]
  },
  {
   "cell_type": "markdown",
   "id": "04bb7682",
   "metadata": {},
   "source": [
    "# Assingnment : WAP to print the table of n; where n will be given by the user"
   ]
  },
  {
   "cell_type": "code",
   "execution_count": 43,
   "id": "1e6c92f2",
   "metadata": {},
   "outputs": [
    {
     "name": "stdout",
     "output_type": "stream",
     "text": [
      "Enter the Table : 9\n",
      "9 * 1 = 9\n",
      "9 * 2 = 18\n",
      "9 * 3 = 27\n",
      "9 * 4 = 36\n",
      "9 * 5 = 45\n",
      "9 * 6 = 54\n",
      "9 * 7 = 63\n",
      "9 * 8 = 72\n",
      "9 * 9 = 81\n",
      "9 * 10 = 90\n"
     ]
    }
   ],
   "source": [
    "a = int(input(\"Enter the Table : \"))\n",
    "for i in range(1, 11):\n",
    "    print(a, \"*\", i , \"=\", i * a)"
   ]
  },
  {
   "cell_type": "code",
   "execution_count": 47,
   "id": "07216d3e",
   "metadata": {},
   "outputs": [
    {
     "name": "stdout",
     "output_type": "stream",
     "text": [
      "Sum is --> 55\n"
     ]
    }
   ],
   "source": [
    "s = 0\n",
    "for i in range(1, 11):\n",
    "    s = s + i\n",
    "print(\"Sum is -->\", s)"
   ]
  },
  {
   "cell_type": "code",
   "execution_count": 48,
   "id": "9e935218",
   "metadata": {},
   "outputs": [
    {
     "name": "stdout",
     "output_type": "stream",
     "text": [
      "Sum is -->  55\n"
     ]
    }
   ],
   "source": [
    "print(\"Sum is --> \", sum(range(1, 11)))"
   ]
  },
  {
   "cell_type": "markdown",
   "id": "0e59149f",
   "metadata": {},
   "source": [
    "# Assingnment - 1. WAP to print the table of 7 & 9\n",
    "# Assingnment - 2. WAP to print the table of n and n is given by user\n",
    "# Assingnment - 3. WAP to add all the numbers from 1 to n is given below"
   ]
  },
  {
   "cell_type": "markdown",
   "id": "1d7900c1",
   "metadata": {},
   "source": [
    "## Assingnment 1 :-"
   ]
  },
  {
   "cell_type": "code",
   "execution_count": 52,
   "id": "d112055f",
   "metadata": {},
   "outputs": [
    {
     "name": "stdout",
     "output_type": "stream",
     "text": [
      "7 * 1 = 5\n",
      "7 * 2 = 10\n",
      "7 * 3 = 15\n",
      "7 * 4 = 20\n",
      "7 * 5 = 25\n",
      "7 * 6 = 30\n",
      "7 * 7 = 35\n",
      "7 * 8 = 40\n",
      "7 * 9 = 45\n",
      "7 * 10 = 50\n",
      "----------------------\n",
      "9 * 1 = 9\n",
      "9 * 2 = 18\n",
      "9 * 3 = 27\n",
      "9 * 4 = 36\n",
      "9 * 5 = 45\n",
      "9 * 6 = 54\n",
      "9 * 7 = 63\n",
      "9 * 8 = 72\n",
      "9 * 9 = 81\n",
      "9 * 10 = 90\n"
     ]
    }
   ],
   "source": [
    "for i in range(1, 11):\n",
    "    print(7, \"*\", i , \"=\", i * 5)\n",
    "print(\"----------------------\")\n",
    "for i in range(1, 11):\n",
    "    print(9, \"*\", i, \"=\", i * 9)"
   ]
  },
  {
   "cell_type": "markdown",
   "id": "e4324d13",
   "metadata": {},
   "source": [
    "## Assingnment 2 :-"
   ]
  },
  {
   "cell_type": "code",
   "execution_count": 53,
   "id": "54274c6f",
   "metadata": {},
   "outputs": [
    {
     "name": "stdout",
     "output_type": "stream",
     "text": [
      "Enter Table Number : 5\n",
      "5 * 1 = 5\n",
      "5 * 2 = 10\n",
      "5 * 3 = 15\n",
      "5 * 4 = 20\n",
      "5 * 5 = 25\n",
      "5 * 6 = 30\n",
      "5 * 7 = 35\n",
      "5 * 8 = 40\n",
      "5 * 9 = 45\n",
      "5 * 10 = 50\n"
     ]
    }
   ],
   "source": [
    "a = int(input(\"Enter Table Number : \"))\n",
    "for i in range(1, 11):\n",
    "    print(a, \"*\", i, \"=\", i * a)"
   ]
  },
  {
   "cell_type": "markdown",
   "id": "9b4cac5b",
   "metadata": {},
   "source": [
    "## Assingnment 3 :-"
   ]
  },
  {
   "cell_type": "code",
   "execution_count": 55,
   "id": "7cecf9b3",
   "metadata": {},
   "outputs": [
    {
     "name": "stdout",
     "output_type": "stream",
     "text": [
      "Enter the number : 5\n",
      "Sum is -->  10\n"
     ]
    }
   ],
   "source": [
    "a = int(input(\"Enter the number : \"))\n",
    "print(\"Sum is --> \", sum(range(1, a)))"
   ]
  },
  {
   "cell_type": "markdown",
   "id": "8f9133dc",
   "metadata": {},
   "source": [
    "## 4. Miscellaneous Example  "
   ]
  },
  {
   "cell_type": "markdown",
   "id": "316e9f67",
   "metadata": {},
   "source": [
    "### 4.1: Prime Number"
   ]
  },
  {
   "cell_type": "code",
   "execution_count": 57,
   "id": "93cf52f1",
   "metadata": {},
   "outputs": [
    {
     "name": "stdout",
     "output_type": "stream",
     "text": [
      "Enter a Number : 8\n",
      "Not Prime\n"
     ]
    }
   ],
   "source": [
    "n = int(input(\"Enter a Number : \"))\n",
    "f = 0\n",
    "for i in range(2, int(1 + n/2)):\n",
    "    if n % i == 0:\n",
    "        f = 1\n",
    "        break\n",
    "        \n",
    "if f == 0:\n",
    "    print(\"Prime\")\n",
    "else:\n",
    "    print(\"Not Prime\")"
   ]
  },
  {
   "cell_type": "markdown",
   "id": "1d02dec8",
   "metadata": {},
   "source": [
    "### 4.2: Fibonacci Number "
   ]
  },
  {
   "cell_type": "code",
   "execution_count": 2,
   "id": "98a284f6",
   "metadata": {},
   "outputs": [
    {
     "name": "stdout",
     "output_type": "stream",
     "text": [
      "0\n",
      "1\n",
      "1\n",
      "2\n",
      "3\n",
      "5\n",
      "8\n",
      "13\n",
      "21\n",
      "34\n",
      "55\n",
      "89\n"
     ]
    }
   ],
   "source": [
    "n = 10\n",
    "\n",
    "a = 0\n",
    "b = 1\n",
    "\n",
    "print(a)\n",
    "print(b)\n",
    "for i in range(n):\n",
    "    c = a + b\n",
    "    print(c)\n",
    "    a = b\n",
    "    b = c"
   ]
  },
  {
   "cell_type": "markdown",
   "id": "b0a70628",
   "metadata": {},
   "source": [
    "### 4.3: Factorial Number"
   ]
  },
  {
   "cell_type": "code",
   "execution_count": 4,
   "id": "0017dcf4",
   "metadata": {},
   "outputs": [
    {
     "name": "stdout",
     "output_type": "stream",
     "text": [
      "Factorial is : 24\n"
     ]
    }
   ],
   "source": [
    "n = 4\n",
    "\n",
    "a = 1\n",
    "\n",
    "for i in range(1, n + 1):\n",
    "    a = a * i\n",
    "print(\"Factorial is :\", a)"
   ]
  },
  {
   "cell_type": "code",
   "execution_count": 7,
   "id": "89130cf2",
   "metadata": {},
   "outputs": [
    {
     "name": "stdout",
     "output_type": "stream",
     "text": [
      "Enter the number : 15\n",
      "Factorial is : 1307674368000\n"
     ]
    }
   ],
   "source": [
    "n = int(input(\"Enter the number : \"))\n",
    "a = 1\n",
    "for i in range(1, n + 1):\n",
    "    a = a * i\n",
    "print(\"Factorial is :\", a)"
   ]
  },
  {
   "cell_type": "markdown",
   "id": "e5493967",
   "metadata": {},
   "source": [
    "## 5. Functions"
   ]
  },
  {
   "cell_type": "markdown",
   "id": "950f7498",
   "metadata": {},
   "source": [
    "### 5.1: Add two numbers"
   ]
  },
  {
   "cell_type": "code",
   "execution_count": 10,
   "id": "26878153",
   "metadata": {},
   "outputs": [
    {
     "name": "stdout",
     "output_type": "stream",
     "text": [
      "Add(10, 20)  --> 30\n",
      "Add(10, 20)  --> 80\n",
      "Add(10, 20)  --> 10\n"
     ]
    }
   ],
   "source": [
    "def Add(a, b):\n",
    "    c = a + b\n",
    "    return c\n",
    "\n",
    "print(\"Add(10, 20)  -->\", Add(10, 20))\n",
    "print(\"Add(10, 20)  -->\", Add(20, 60))\n",
    "print(\"Add(10, 20)  -->\", Add(-10, 20))"
   ]
  },
  {
   "cell_type": "markdown",
   "id": "6423f6d0",
   "metadata": {},
   "source": [
    "### 5.2: Prime Number"
   ]
  },
  {
   "cell_type": "code",
   "execution_count": 13,
   "id": "1ceb055f",
   "metadata": {},
   "outputs": [
    {
     "name": "stdout",
     "output_type": "stream",
     "text": [
      "IsPrime(20)  --> False\n",
      "IsPrime(20)  --> True\n",
      "IsPrime(20)  --> False\n",
      "IsPrime(20)  --> True\n"
     ]
    }
   ],
   "source": [
    "def IsPrime(n):\n",
    "    for i in range(2, int(1 + n / 2)):\n",
    "        if n % i == 0:\n",
    "            return False\n",
    "    return True\n",
    "\n",
    "print(\"IsPrime(20)  -->\", IsPrime(20))\n",
    "print(\"IsPrime(20)  -->\", IsPrime(23))\n",
    "print(\"IsPrime(20)  -->\", IsPrime(200))\n",
    "print(\"IsPrime(20)  -->\", IsPrime(37))"
   ]
  },
  {
   "cell_type": "markdown",
   "id": "10308c75",
   "metadata": {},
   "source": [
    "### 5.3: Add 1 to n"
   ]
  },
  {
   "cell_type": "code",
   "execution_count": 15,
   "id": "72670efb",
   "metadata": {},
   "outputs": [
    {
     "name": "stdout",
     "output_type": "stream",
     "text": [
      "AddN(10) --> 55\n",
      "AddN(10) --> 210\n",
      "AddN(10) --> 1275\n",
      "AddN(10) --> 20100\n"
     ]
    }
   ],
   "source": [
    "def AddN(n):\n",
    "    s = sum(range(n + 1))\n",
    "    return s\n",
    "\n",
    "print(\"AddN(10) -->\", AddN(10))\n",
    "print(\"AddN(10) -->\", AddN(20))\n",
    "print(\"AddN(10) -->\", AddN(50))\n",
    "print(\"AddN(10) -->\", AddN(200))"
   ]
  },
  {
   "cell_type": "markdown",
   "id": "9917a839",
   "metadata": {},
   "source": [
    "### 5.4: Default Parameter"
   ]
  },
  {
   "cell_type": "code",
   "execution_count": 16,
   "id": "513f5463",
   "metadata": {},
   "outputs": [
    {
     "name": "stdout",
     "output_type": "stream",
     "text": [
      "Add(10, 20) --> 120\n",
      "Add(20, 50, 10) --> 80\n"
     ]
    }
   ],
   "source": [
    "def Add(a, b, d = 90):\n",
    "    c = a + b + d\n",
    "    return c\n",
    "\n",
    "print(\"Add(10, 20) -->\", Add(10, 20))\n",
    "print(\"Add(20, 50, 10) -->\", Add(20, 50, 10))"
   ]
  },
  {
   "cell_type": "markdown",
   "id": "d4d3bca7",
   "metadata": {},
   "source": [
    "# Assingnment - 1. WAP using function that add all odd numbers from 1 to n; n given by user.\n",
    "# Assingnment - 2. WAP using function that add all even numbers from  to n; n given by user.\n",
    "# Assingnment - 3. WAP using function that add all the prime numbers from 1 to n; n given by user."
   ]
  },
  {
   "cell_type": "markdown",
   "id": "c36c963e",
   "metadata": {},
   "source": [
    "## Assingnment - 1"
   ]
  },
  {
   "cell_type": "code",
   "execution_count": 11,
   "id": "2bc85270",
   "metadata": {},
   "outputs": [
    {
     "name": "stdout",
     "output_type": "stream",
     "text": [
      "Enter the starting value : 3\n",
      "Enter the ending value : 8\n",
      "Sum of odd number is  15\n"
     ]
    }
   ],
   "source": [
    "\n",
    "start = int(input(\"Enter the starting value : \"))\n",
    "end   = int(input(\"Enter the ending value : \"))\n",
    "\n",
    "result=0\n",
    "\n",
    "for x in range(start,end):\n",
    "    if(x % 2 == 1):\n",
    "        result=result+x\n",
    "        \n",
    "print(\"Sum of odd number is \",result)"
   ]
  },
  {
   "cell_type": "markdown",
   "id": "c6ec6507",
   "metadata": {},
   "source": [
    "## Assingnment - 2"
   ]
  },
  {
   "cell_type": "code",
   "execution_count": 12,
   "id": "d2673257",
   "metadata": {},
   "outputs": [
    {
     "name": "stdout",
     "output_type": "stream",
     "text": [
      "Enter the starting value : 2\n",
      "Enter the ending value : 8\n",
      "Sum of odd number is  12\n"
     ]
    }
   ],
   "source": [
    "start = int(input(\"Enter the starting value : \"))\n",
    "end   = int(input(\"Enter the ending value : \"))\n",
    "\n",
    "result=0\n",
    "\n",
    "for x in range(start,end):\n",
    "    if(x % 2 == 0):\n",
    "        result=result+x\n",
    "        \n",
    "print(\"Sum of odd number is \",result)\n",
    "   "
   ]
  },
  {
   "cell_type": "markdown",
   "id": "261ac602",
   "metadata": {},
   "source": [
    "## Assingnment - 3"
   ]
  },
  {
   "cell_type": "code",
   "execution_count": 7,
   "id": "41e4cfd1",
   "metadata": {},
   "outputs": [
    {
     "name": "stdout",
     "output_type": "stream",
     "text": [
      "Enter the starting value : 3\n",
      "Enter the ending value : 9\n",
      "Sum of odd number is  15\n"
     ]
    }
   ],
   "source": [
    "start = int(input(\"Enter the starting value : \"))\n",
    "end   = int(input(\"Enter the ending value : \"))\n",
    "\n",
    "result=0\n",
    "\n",
    "for x in range(start,end):\n",
    "    if(x % 2 != 0):\n",
    "        result=result+x\n",
    "        \n",
    "print(\"Sum of odd number is \",result)"
   ]
  },
  {
   "cell_type": "markdown",
   "id": "e4367a0b",
   "metadata": {},
   "source": [
    "# 6. Math Library"
   ]
  },
  {
   "cell_type": "code",
   "execution_count": 31,
   "id": "3910ec47",
   "metadata": {},
   "outputs": [
    {
     "name": "stdout",
     "output_type": "stream",
     "text": [
      "exp(-200)        --> 1.3838965267367376e-87\n",
      "log(100, 2)      --> 6.643856189774725\n",
      "log(100, 10)     --> 2.0\n",
      "log10(1100)      -->\n",
      "m.cos(30)        -->\n",
      "m.sin(30)        --> -0.9880316240928618\n",
      "m.tan(30)        --> -6.405331196646276\n",
      "m.sqrt(324)      --> 18.0\n",
      "m.ceil(89.9)     --> 90\n",
      "m.floor(89.9)    --> 89\n"
     ]
    }
   ],
   "source": [
    "import math as m\n",
    "print(\"exp(-200)        -->\", m.exp(-200))   # Exponential Function\n",
    "print(\"log(100, 2)      -->\", m.log(100, 2))  #Log\n",
    "print(\"log(100, 10)     -->\", m.log(100, 10))  #Log\n",
    "print(\"log10(1100)      -->\"), m.log10(100)  #Log10\n",
    "print(\"m.cos(30)        -->\"), m.cos(30)  # Cos\n",
    "print(\"m.sin(30)        -->\", m.sin(30))  #Sin\n",
    "print(\"m.tan(30)        -->\", m.tan(30))  #tan\n",
    "print(\"m.sqrt(324)      -->\", m.sqrt(324)) \n",
    "print(\"m.ceil(89.9)     -->\", m.ceil(89.9))\n",
    "print(\"m.floor(89.9)    -->\", m.floor(89.9))"
   ]
  },
  {
   "cell_type": "markdown",
   "id": "80597b55",
   "metadata": {},
   "source": [
    "# 7. String Handling"
   ]
  },
  {
   "cell_type": "markdown",
   "id": "5471a1b9",
   "metadata": {},
   "source": [
    "## 7.1: String Declaration"
   ]
  },
  {
   "cell_type": "code",
   "execution_count": 17,
   "id": "bab1dfa8",
   "metadata": {},
   "outputs": [
    {
     "name": "stdout",
     "output_type": "stream",
     "text": [
      "var1 --> Hello Python\n",
      "var2 --> Hello Python\n"
     ]
    }
   ],
   "source": [
    "var1 = 'Hello Python'\n",
    "var2 = \"Hello Python\"\n",
    "print(\"var1 -->\", var1)\n",
    "print(\"var2 -->\", var2)"
   ]
  },
  {
   "cell_type": "markdown",
   "id": "bf78d5cd",
   "metadata": {},
   "source": [
    "## 7.2: Difference between single quote and double quote"
   ]
  },
  {
   "cell_type": "code",
   "execution_count": 20,
   "id": "9a5c9933",
   "metadata": {},
   "outputs": [
    {
     "name": "stdout",
     "output_type": "stream",
     "text": [
      "Var1 --> Harsh \"Kumar\"\n",
      "Var2 --> Harsh 'Kumar'\n",
      "Var3 --> Hello \"Python\" \n"
     ]
    }
   ],
   "source": [
    "var1 = 'Harsh \"Kumar\"'\n",
    "var2 = \"Harsh 'Kumar'\"\n",
    "var3 = \"Hello \\\"Python\\\" \"\n",
    "print(\"Var1 -->\", var1)\n",
    "print(\"Var2 -->\", var2)\n",
    "print(\"Var3 -->\", var3)"
   ]
  },
  {
   "cell_type": "code",
   "execution_count": 21,
   "id": "966d229a",
   "metadata": {},
   "outputs": [
    {
     "name": "stdout",
     "output_type": "stream",
     "text": [
      "It's Python\n"
     ]
    }
   ],
   "source": [
    "# No Error\n",
    "print(\"It's Python\")"
   ]
  },
  {
   "cell_type": "code",
   "execution_count": 22,
   "id": "99a0d171",
   "metadata": {},
   "outputs": [
    {
     "ename": "SyntaxError",
     "evalue": "invalid syntax (4098602770.py, line 2)",
     "output_type": "error",
     "traceback": [
      "\u001b[1;36m  File \u001b[1;32m\"C:\\Users\\hk821\\AppData\\Local\\Temp\\ipykernel_13920\\4098602770.py\"\u001b[1;36m, line \u001b[1;32m2\u001b[0m\n\u001b[1;33m    print('It's python')\u001b[0m\n\u001b[1;37m              ^\u001b[0m\n\u001b[1;31mSyntaxError\u001b[0m\u001b[1;31m:\u001b[0m invalid syntax\n"
     ]
    }
   ],
   "source": [
    "# Error\n",
    "print('It's python')"
   ]
  },
  {
   "cell_type": "code",
   "execution_count": 24,
   "id": "bcde0d6a",
   "metadata": {},
   "outputs": [
    {
     "name": "stdout",
     "output_type": "stream",
     "text": [
      "It's python\n"
     ]
    }
   ],
   "source": [
    "# No Error; Use of \\\n",
    "print('It\\'s python')"
   ]
  },
  {
   "cell_type": "code",
   "execution_count": 25,
   "id": "b5cdfdab",
   "metadata": {},
   "outputs": [
    {
     "name": "stdout",
     "output_type": "stream",
     "text": [
      "It\"s Python\n"
     ]
    }
   ],
   "source": [
    "# No Error\n",
    "print('It\"s Python')"
   ]
  },
  {
   "cell_type": "markdown",
   "id": "274b1e71",
   "metadata": {},
   "source": [
    "## 7.3: Indexing in string"
   ]
  },
  {
   "cell_type": "code",
   "execution_count": 32,
   "id": "0be8b813",
   "metadata": {},
   "outputs": [
    {
     "name": "stdout",
     "output_type": "stream",
     "text": [
      "var1     --> 123456789\n",
      "var1[1]  --> 2\n",
      "var1[2]  --> 3\n",
      "var1[-1] --> 9\n",
      "var1[-2] --> 8\n"
     ]
    }
   ],
   "source": [
    "#Example 1 :-\n",
    "var1 = \"123456789\"\n",
    "print(\"var1     -->\", var1)\n",
    "print(\"var1[1]  -->\", var1[1])\n",
    "print(\"var1[2]  -->\", var1[2])\n",
    "print(\"var1[-1] -->\", var1[-1])\n",
    "print(\"var1[-2] -->\", var1[-2])"
   ]
  },
  {
   "cell_type": "code",
   "execution_count": 35,
   "id": "c1a63a1f",
   "metadata": {},
   "outputs": [
    {
     "name": "stdout",
     "output_type": "stream",
     "text": [
      "var1         --> 123456789\n",
      "var1[1:3]    --> 23\n",
      "var1[2: ]    --> 3456789\n",
      "var1[2:5]    --> 345\n",
      "var1[:2]     --> 12\n",
      "var1[:-1]    --> 12345678\n",
      "var1[-4:-1]  --> 678\n"
     ]
    }
   ],
   "source": [
    "# Example 2 :-\n",
    "var1 = \"123456789\"\n",
    "print(\"var1         -->\", var1)\n",
    "print(\"var1[1:3]    -->\", var1[1:3])\n",
    "print(\"var1[2: ]    -->\", var1[2:])\n",
    "print(\"var1[2:5]    -->\", var1[2:5])\n",
    "print(\"var1[:2]     -->\", var1[:2])\n",
    "print(\"var1[:-1]    -->\", var1[:-1])\n",
    "print(\"var1[-4:-1]  -->\", var1[-4:-1])"
   ]
  },
  {
   "cell_type": "code",
   "execution_count": 37,
   "id": "1eb1b242",
   "metadata": {},
   "outputs": [
    {
     "name": "stdout",
     "output_type": "stream",
     "text": [
      "var1            --> 123456789\n",
      "var1[::1]       --> 123456789\n",
      "var1[::-1]      --> 987654321\n",
      "var1[::-2]      --> 97531\n",
      "var1[::2]       --> 13579\n"
     ]
    }
   ],
   "source": [
    "# Example 3 :-\n",
    "var1 = \"123456789\"\n",
    "print(\"var1            -->\", var1)\n",
    "print(\"var1[::1]       -->\", var1[::1])   # No change\n",
    "print(\"var1[::-1]      -->\", var1[::-1])  # Reverse\n",
    "print(\"var1[::-2]      -->\", var1[::-2])\n",
    "print(\"var1[::2]       -->\", var1[::2])"
   ]
  },
  {
   "cell_type": "markdown",
   "id": "09aee373",
   "metadata": {},
   "source": [
    "## 7.4: String Length, upper, lower"
   ]
  },
  {
   "cell_type": "code",
   "execution_count": 38,
   "id": "01d97f0b",
   "metadata": {},
   "outputs": [
    {
     "name": "stdout",
     "output_type": "stream",
     "text": [
      "var1             --> Python Programming\n",
      "\n",
      "length of var1 --> 18\n",
      "\n",
      "Upper of var1  --> PYTHON PROGRAMMING\n",
      "var1             --> Python Programming\n",
      "\n",
      "Lower of var1  --> python programming\n",
      "var1             --> Python Programming\n"
     ]
    }
   ],
   "source": [
    "var1 = \"Python Programming\"\n",
    "print(\"var1             -->\", var1)\n",
    "print(\"\\nlength of var1 -->\", len(var1))\n",
    "print(\"\\nUpper of var1  -->\", var1.upper())   # No Change in the var1\n",
    "print(\"var1             -->\", var1)\n",
    "print(\"\\nLower of var1  -->\", var1.lower())\n",
    "print(\"var1             -->\", var1)"
   ]
  },
  {
   "cell_type": "markdown",
   "id": "60e665ef",
   "metadata": {},
   "source": [
    "## 7.5: To save string in Upper / Lower Permanently"
   ]
  },
  {
   "cell_type": "code",
   "execution_count": 46,
   "id": "dd9673a8",
   "metadata": {},
   "outputs": [
    {
     "name": "stdout",
     "output_type": "stream",
     "text": [
      "var1     --> Python Programing\n",
      "var1     --> PYTHON PROGRAMING\n",
      "A        --> harsh kumar\n"
     ]
    }
   ],
   "source": [
    "var1 = \"Python Programing\"\n",
    "print(\"var1     -->\", var1)\n",
    "\n",
    "var1 = var1.upper()\n",
    "print(\"var1     -->\", var1)\n",
    "\n",
    "A = \"HARSH KUMAR\"\n",
    "A = A.lower()\n",
    "print(\"A        -->\", A)"
   ]
  },
  {
   "cell_type": "markdown",
   "id": "233c689c",
   "metadata": {},
   "source": [
    "## 7.6: String Formatting"
   ]
  },
  {
   "cell_type": "code",
   "execution_count": 48,
   "id": "fe3af510",
   "metadata": {},
   "outputs": [
    {
     "name": "stdout",
     "output_type": "stream",
     "text": [
      "Your name is HAPPY, age is 24 and book price is 89.500000\n"
     ]
    }
   ],
   "source": [
    "name = \"Happy\"    #= input(\"Enter your name : \")\n",
    "age = 24          #= int(input(\"Enter you age : \"))\n",
    "price = 89.5      #= float(input(\"Enter the book price : \"))\n",
    "s = \"Your name is %s, age is %d and book price is %f\" %(name.upper(),age,price)\n",
    "print(s)"
   ]
  },
  {
   "cell_type": "markdown",
   "id": "821e1cf9",
   "metadata": {},
   "source": [
    "## 7.7: String in Triple Quotes"
   ]
  },
  {
   "cell_type": "code",
   "execution_count": 56,
   "id": "1e08f738",
   "metadata": {},
   "outputs": [
    {
     "name": "stdout",
     "output_type": "stream",
     "text": [
      "सफल और असफल लोग अपनी क्षमताओं में बहुत भिन्न नहीं होते हैं,\n",
      "वे अपनी क्षमता तक पहुँचने के लिए अपनी इच्छाओं में भिन्न होते हैं|\n",
      "                     - जॉन मैक्सवेल\n"
     ]
    }
   ],
   "source": [
    "para_str = \"\"\"सफल और असफल लोग अपनी क्षमताओं में बहुत भिन्न नहीं होते हैं,\n",
    "वे अपनी क्षमता तक पहुँचने के लिए अपनी इच्छाओं में भिन्न होते हैं|\n",
    "                     - जॉन मैक्सवेल\"\"\"\n",
    "print(para_str)"
   ]
  },
  {
   "cell_type": "markdown",
   "id": "a7646205",
   "metadata": {},
   "source": [
    "## 7.8: String strip - Remove the Spaces (space, new line, tab) from either side"
   ]
  },
  {
   "cell_type": "code",
   "execution_count": 61,
   "id": "721c050a",
   "metadata": {},
   "outputs": [
    {
     "name": "stdout",
     "output_type": "stream",
     "text": [
      "s1         --> India  Army        \t\t  Length  -->  18\n",
      "s1 strip   --> India  Army \t\t   Length  --> 11\n",
      "\n",
      "s2       --> India                Army \t\t  Length  -->  25\n",
      "s2 strip   --> India                Army \t\t   Length  --> 25\n",
      "\n",
      "s3       --> Indian, Army, is, Best \t\t  Length  -->  22\n",
      "s3 strip   --> Indian, Army, is, Best \t\t   Length  --> 22\n"
     ]
    }
   ],
   "source": [
    "s1 = \"India  Army       \"\n",
    "s2 = \"India                Army\"\n",
    "s3 = \"Indian, Army, is, Best\"\n",
    "\n",
    "print(\"s1         -->\", s1, \"\\t\\t  Length  --> \", len(s1))\n",
    "print(\"s1 strip   -->\", s1.strip(), \"\\t\\t   Length  -->\", len(s1.strip()))\n",
    "\n",
    "print(\"\\ns2       -->\", s2, \"\\t\\t  Length  --> \", len(s2))\n",
    "print(\"s2 strip   -->\", s2.strip(), \"\\t\\t   Length  -->\", len(s2.strip()))\n",
    "\n",
    "print(\"\\ns3       -->\", s3, \"\\t\\t  Length  --> \", len(s3))\n",
    "print(\"s3 strip   -->\", s3.strip(), \"\\t\\t   Length  -->\", len(s3.strip()))"
   ]
  },
  {
   "cell_type": "markdown",
   "id": "81d297c5",
   "metadata": {},
   "source": [
    "## 7.9: String split"
   ]
  },
  {
   "cell_type": "code",
   "execution_count": 62,
   "id": "a7291052",
   "metadata": {},
   "outputs": [
    {
     "name": "stdout",
     "output_type": "stream",
     "text": [
      "s1                       --> India  Army       \n",
      "s1 split                 --> ['India', 'Army']\n",
      "\n",
      "s2                     --> India                Army\n",
      "s2 split                 --> ['India', 'Army']\n",
      "s2 split with ','        --> ['India                Army']\n",
      "\n",
      "s3                     --> Indian, Army, is, Best\n",
      "s3 split                 --> ['Indian,', 'Army,', 'is,', 'Best']\n",
      "s3 split with ' '        --> ['Indian,', 'Army,', 'is,', 'Best']\n"
     ]
    }
   ],
   "source": [
    "s1 = \"India  Army       \"\n",
    "s2 = \"India                Army\"\n",
    "s3 = \"Indian, Army, is, Best\"\n",
    "\n",
    "print(\"s1                       -->\", s1)\n",
    "print(\"s1 split                 -->\", s1.split())\n",
    "\n",
    "print(\"\\ns2                     -->\", s2)\n",
    "print(\"s2 split                 -->\", s2.split())\n",
    "print(\"s2 split with ','        -->\", s2.split(\",\"))\n",
    "\n",
    "print(\"\\ns3                     -->\", s3)\n",
    "print(\"s3 split                 -->\", s3.split())\n",
    "print(\"s3 split with ' '        -->\", s3.split(' '))"
   ]
  },
  {
   "cell_type": "markdown",
   "id": "a9d0db39",
   "metadata": {},
   "source": [
    "## 7.10: Count in string"
   ]
  },
  {
   "cell_type": "code",
   "execution_count": 1,
   "id": "eba11451",
   "metadata": {},
   "outputs": [
    {
     "name": "stdout",
     "output_type": "stream",
     "text": [
      "s1             --> Indian Army     \n",
      "s1 count ' '   --> 6\n",
      "s1 count 'a'   --> 1\n",
      "s1 count 'an'  --> 1\n"
     ]
    }
   ],
   "source": [
    "s1 = \"Indian Army     \"\n",
    "print(\"s1             -->\", s1)\n",
    "print(\"s1 count ' '   -->\", s1.count(' '))\n",
    "print(\"s1 count 'a'   -->\", s1.count('a'))\n",
    "print(\"s1 count 'an'  -->\", s1.count('an'))"
   ]
  },
  {
   "cell_type": "code",
   "execution_count": 5,
   "id": "29e98073",
   "metadata": {},
   "outputs": [
    {
     "name": "stdout",
     "output_type": "stream",
     "text": [
      "a        --> Harsh Kumar\n",
      "a count  --> 2\n",
      "r count  --> 2\n"
     ]
    }
   ],
   "source": [
    "a = \"Harsh Kumar\"\n",
    "print(\"a        -->\", a)\n",
    "print(\"a count  -->\", a.count('a'))\n",
    "print(\"r count  -->\", a.count('r'))"
   ]
  },
  {
   "cell_type": "code",
   "execution_count": 11,
   "id": "b9e24f53",
   "metadata": {},
   "outputs": [
    {
     "name": "stdout",
     "output_type": "stream",
     "text": [
      "Quotes  -->  When you give joy to other people, you get more joy in return. \n",
      "             You should give a good thought to happiness that you can give out.\n",
      "                   — Eleanor Roosevelt\n",
      "Quotes count o  --> 19\n"
     ]
    }
   ],
   "source": [
    "Quotes = \"\"\" When you give joy to other people, you get more joy in return. \n",
    "             You should give a good thought to happiness that you can give out.\n",
    "                   — Eleanor Roosevelt\"\"\"\n",
    "print(\"Quotes  -->\", Quotes)\n",
    "print(\"Quotes count o  -->\", Quotes.count('o'))"
   ]
  },
  {
   "cell_type": "markdown",
   "id": "1b1521c1",
   "metadata": {},
   "source": [
    "## 7.11: Reverse a String"
   ]
  },
  {
   "cell_type": "code",
   "execution_count": 17,
   "id": "5217dae9",
   "metadata": {},
   "outputs": [
    {
     "name": "stdout",
     "output_type": "stream",
     "text": [
      "s1               --> Harsh Kumar\n",
      "s1[::1]          --> Harsh Kumar\n",
      "s1[::-1]         --> ramuK hsraH\n",
      "s1[::-2]         --> rmKhrH\n",
      "s1[::2]          --> HrhKmr\n"
     ]
    }
   ],
   "source": [
    "s1 = \"Harsh Kumar\"\n",
    "print(\"s1               -->\", s1)\n",
    "print(\"s1[::1]          -->\", s1[::1])\n",
    "print(\"s1[::-1]         -->\", s1[::-1])\n",
    "print(\"s1[::-2]         -->\", s1[::-2])\n",
    "print(\"s1[::2]          -->\", s1[::2])"
   ]
  },
  {
   "cell_type": "markdown",
   "id": "664b8ad4",
   "metadata": {},
   "source": [
    "## 7.12: Palindrome"
   ]
  },
  {
   "cell_type": "code",
   "execution_count": 18,
   "id": "23582c68",
   "metadata": {},
   "outputs": [
    {
     "name": "stdout",
     "output_type": "stream",
     "text": [
      "s1 --> False\n",
      "s2 --> False\n",
      "s3 --> True\n",
      "s4 --> False\n"
     ]
    }
   ],
   "source": [
    "s1 = \"Indian Army\"\n",
    "s2 = \"malyalam\"\n",
    "s3 = \"madam\"\n",
    "s4 = \"teacher\"\n",
    "\n",
    "print(\"s1 -->\", s1 == s1[::-1])\n",
    "print(\"s2 -->\", s2 == s2[::-1])\n",
    "print(\"s3 -->\", s3 == s3[::-1])\n",
    "print(\"s4 -->\", s4 == s4[::-1])"
   ]
  },
  {
   "cell_type": "markdown",
   "id": "a1cb3171",
   "metadata": {},
   "source": [
    "# Basics of Python - Part 3 (Random Number-String, Exception Handling)"
   ]
  },
  {
   "cell_type": "markdown",
   "id": "bd6ea1ad",
   "metadata": {},
   "source": [
    "### Topics :-\n",
    "       1. Random Numbers\n",
    "       2. Random Strings\n",
    "       3. Exception Handling"
   ]
  },
  {
   "cell_type": "markdown",
   "id": "8844510a",
   "metadata": {},
   "source": [
    "## 1. Random Numbers / Random Strings"
   ]
  },
  {
   "cell_type": "markdown",
   "id": "bd78f4d0",
   "metadata": {},
   "source": [
    "### 1.1: Generate random number between 0 and 1"
   ]
  },
  {
   "cell_type": "code",
   "execution_count": 20,
   "id": "bdc66b62",
   "metadata": {},
   "outputs": [
    {
     "name": "stdout",
     "output_type": "stream",
     "text": [
      "r.random() --> 0.12218482122987084\n",
      "r.random() --> 0.054443468064082956\n",
      "r.random() --> 0.7561406433448241\n"
     ]
    }
   ],
   "source": [
    "import random as r\n",
    "print(\"r.random() -->\", r.random())       # Random number between 0 & 1\n",
    "print(\"r.random() -->\", r.random())\n",
    "print(\"r.random() -->\", r.random())"
   ]
  },
  {
   "cell_type": "markdown",
   "id": "be6ff1a4",
   "metadata": {},
   "source": [
    "### 1.2: Generate random integer number"
   ]
  },
  {
   "cell_type": "code",
   "execution_count": 23,
   "id": "c1bb4661",
   "metadata": {},
   "outputs": [
    {
     "name": "stdout",
     "output_type": "stream",
     "text": [
      "r.random(1, 10)    --> 10\n",
      "r.randint(1, 10)   --> 4\n",
      "r.randint(-10, 10) --> 6\n",
      "r.randint(-10, 10) --> 9\n"
     ]
    }
   ],
   "source": [
    "import random as r\n",
    "print(\"r.random(1, 10)    -->\", r.randint(1, 10))\n",
    "print(\"r.randint(1, 10)   -->\", r.randint(1, 10))\n",
    "print(\"r.randint(-10, 10) -->\", r.randint(-10, 10))\n",
    "print(\"r.randint(-10, 10) -->\", r.randint(-10, 10))"
   ]
  },
  {
   "cell_type": "markdown",
   "id": "aa7390ae",
   "metadata": {},
   "source": [
    "### 1.3: Generate random real number "
   ]
  },
  {
   "cell_type": "code",
   "execution_count": 24,
   "id": "6427d98d",
   "metadata": {},
   "outputs": [
    {
     "name": "stdout",
     "output_type": "stream",
     "text": [
      "r.uniform(1, 100) --> 56.304849843073235\n",
      "r.uniform(1, 100) --> 69.06\n",
      "r.uniform(-10, 10)--> 4.446797580651637\n",
      "r.uniform(-10, 10)--> -1.1825\n"
     ]
    }
   ],
   "source": [
    "import random as r\n",
    "print(\"r.uniform(1, 100) -->\", r.uniform(1, 100))\n",
    "print(\"r.uniform(1, 100) -->\", round(r.uniform(1,100),2))\n",
    "print(\"r.uniform(-10, 10)-->\", r.uniform(-10, 10))\n",
    "print(\"r.uniform(-10, 10)-->\", round(r.uniform(-10, 10),4))"
   ]
  },
  {
   "cell_type": "markdown",
   "id": "e108ef9c",
   "metadata": {},
   "source": [
    "### 1.4: Generate sample from a list of elements"
   ]
  },
  {
   "cell_type": "code",
   "execution_count": 25,
   "id": "b72244db",
   "metadata": {},
   "outputs": [
    {
     "name": "stdout",
     "output_type": "stream",
     "text": [
      "A          --> [1, 2, 3, 4, 5, 6, 7, 8, 9, 10]\n",
      "\n",
      "sample(A, 4)  --> [5, 1, 3, 4]\n",
      "sample (A, 2) --> [9, 3]\n",
      "\n",
      "sample(range(1, 90),2   --> [83, 15]\n",
      "sample(range(1, 90),2   --> [54, 35]\n"
     ]
    }
   ],
   "source": [
    "import random as r\n",
    "\n",
    "A = [1, 2, 3, 4, 5, 6, 7, 8, 9, 10]\n",
    "print(\"A          -->\", A)\n",
    "\n",
    "print(\"\")\n",
    "print(\"sample(A, 4)  -->\", r.sample(A, 4))\n",
    "print(\"sample (A, 2) -->\", r.sample(A, 2))\n",
    "\n",
    "print(\"\")\n",
    "print(\"sample(range(1, 90),2   -->\", r.sample(range(1, 90), 2))\n",
    "print(\"sample(range(1, 90),2   -->\", r.sample(range(1, 90), 2))"
   ]
  },
  {
   "cell_type": "markdown",
   "id": "8aa6e7af",
   "metadata": {},
   "source": [
    "### 1.5: Generate random string"
   ]
  },
  {
   "cell_type": "code",
   "execution_count": 26,
   "id": "314382db",
   "metadata": {},
   "outputs": [
    {
     "name": "stdout",
     "output_type": "stream",
     "text": [
      "String  -->  abcdefghijklmnopqrstuvwxyzABCDEFGHIJKLMNOPQRSTUVWXYZ\n",
      "\n",
      "passwd1  -->  ['u', 's', 'y', 'c', 'N']\n",
      "passed  --> usycN\n"
     ]
    }
   ],
   "source": [
    "import string as s\n",
    "import random as r\n",
    "\n",
    "print(\"String  --> \", s.ascii_letters)\n",
    "passwd = r.sample(s.ascii_letters, 5)\n",
    "print(\"\")\n",
    "print(\"passwd1  --> \", passwd)\n",
    "passwd = \"\".join(passwd)\n",
    "print(\"passed  -->\", passwd)"
   ]
  },
  {
   "cell_type": "code",
   "execution_count": 28,
   "id": "324c9924",
   "metadata": {},
   "outputs": [
    {
     "name": "stdout",
     "output_type": "stream",
     "text": [
      "String  -->  abcdefghijklmnopqrstuvwxyzABCDEFGHIJKLMNOPQRSTUVWXYZ\n",
      "\n",
      "passwd1  -->  ['j', 't', 'y', 'l', 'e', 'p']\n",
      "passed  --> jtylep\n"
     ]
    }
   ],
   "source": [
    "import string as s\n",
    "import random as r\n",
    "\n",
    "print(\"String  --> \", s.ascii_letters)\n",
    "passwd = r.sample(s.ascii_letters, 6)\n",
    "print(\"\")\n",
    "print(\"passwd1  --> \", passwd)\n",
    "passwd = \"\".join(passwd)\n",
    "print(\"passed  -->\", passwd)"
   ]
  },
  {
   "cell_type": "markdown",
   "id": "a16d39e3",
   "metadata": {},
   "source": [
    "### 1.6: Generate random digits (OTP)"
   ]
  },
  {
   "cell_type": "code",
   "execution_count": 30,
   "id": "cd91c90d",
   "metadata": {},
   "outputs": [
    {
     "name": "stdout",
     "output_type": "stream",
     "text": [
      "Digits  -->  0123456789\n",
      "\n",
      "otp1  -->  ['0', '2', '1', '5', '4']\n",
      "otp1  -->  02154\n"
     ]
    }
   ],
   "source": [
    "import string as s\n",
    "import random as r\n",
    "print(\"Digits  --> \", s.digits)\n",
    "\n",
    "otp = r.sample(s.digits, 5)\n",
    "print(\"\")\n",
    "print(\"otp1  --> \", otp)\n",
    "otp = \"\".join(otp)\n",
    "print(\"otp1  --> \", otp)"
   ]
  },
  {
   "cell_type": "markdown",
   "id": "c23d8a47",
   "metadata": {},
   "source": [
    "### 1.7: Generate random tring + digits"
   ]
  },
  {
   "cell_type": "code",
   "execution_count": 32,
   "id": "6b3d98f2",
   "metadata": {},
   "outputs": [
    {
     "name": "stdout",
     "output_type": "stream",
     "text": [
      "String + Digit  -->  abcdefghijklmnopqrstuvwxyzABCDEFGHIJKLMNOPQRSTUVWXYZ0123456789\n",
      "\n",
      "mixPaswd1  -->  ['n', 'X', 'x', 'g', 'B', 'd', 'c', 'k']\n",
      "mixPasswd1  -->  nXxgBdck\n"
     ]
    }
   ],
   "source": [
    "import string as s\n",
    "import random as r\n",
    "print(\"String + Digit  --> \", s.ascii_letters + s.digits)\n",
    "mixPasswd = r.sample(s.ascii_letters + s.digits, 8)\n",
    "print(\"\")\n",
    "print(\"mixPaswd1  --> \", mixPasswd)\n",
    "mixPasswd = \"\".join(mixPasswd)\n",
    "print(\"mixPasswd1  --> \", mixPasswd)"
   ]
  },
  {
   "cell_type": "markdown",
   "id": "e879f020",
   "metadata": {},
   "source": [
    "### 1.8: Generate random string + digits + special char"
   ]
  },
  {
   "cell_type": "code",
   "execution_count": 34,
   "id": "f9a144b6",
   "metadata": {},
   "outputs": [
    {
     "name": "stdout",
     "output_type": "stream",
     "text": [
      "mixPasswd  -->  ['I', 'Q', 'Z', '|', 't', '#', '=', 'E', '(', '@', 'G', 'C']\n",
      "\n",
      "mixPasswd  -->  IQZ|t#=E(@GC\n"
     ]
    }
   ],
   "source": [
    "import string as s\n",
    "import random as r\n",
    "\n",
    "splChar = \"#@!%^()_+=[]{}|\"\n",
    "\n",
    "mixPasswd = r.sample(splChar + s.ascii_letters + s.digits, 12)\n",
    "print(\"mixPasswd  --> \", mixPasswd)\n",
    "mixPasswd = \"\".join(mixPasswd)\n",
    "print(\"\")\n",
    "print(\"mixPasswd  --> \", mixPasswd)"
   ]
  },
  {
   "cell_type": "markdown",
   "id": "fe6a6029",
   "metadata": {},
   "source": [
    "## 2. Exception Handling\n",
    "       Run time errors are known as exception eg - division by zero, file not found etc."
   ]
  },
  {
   "cell_type": "markdown",
   "id": "496325bf",
   "metadata": {},
   "source": [
    "### 2.1: Error Generattion 2: Division by Zero"
   ]
  },
  {
   "cell_type": "code",
   "execution_count": 35,
   "id": "b0aacae8",
   "metadata": {},
   "outputs": [
    {
     "name": "stdout",
     "output_type": "stream",
     "text": [
      "100/ -5 --> -20.0\n",
      "100/ -4 --> -25.0\n",
      "100/ -3 --> -33.333333333333336\n",
      "100/ -2 --> -50.0\n",
      "100/ -1 --> -100.0\n"
     ]
    },
    {
     "ename": "ZeroDivisionError",
     "evalue": "division by zero",
     "output_type": "error",
     "traceback": [
      "\u001b[1;31m---------------------------------------------------------------------------\u001b[0m",
      "\u001b[1;31mZeroDivisionError\u001b[0m                         Traceback (most recent call last)",
      "\u001b[1;32m~\\AppData\\Local\\Temp\\ipykernel_13460\\1755956202.py\u001b[0m in \u001b[0;36m<module>\u001b[1;34m\u001b[0m\n\u001b[0;32m      1\u001b[0m \u001b[1;32mfor\u001b[0m \u001b[0mi\u001b[0m \u001b[1;32min\u001b[0m \u001b[0mrange\u001b[0m\u001b[1;33m(\u001b[0m\u001b[1;33m-\u001b[0m\u001b[1;36m5\u001b[0m\u001b[1;33m,\u001b[0m \u001b[1;36m6\u001b[0m\u001b[1;33m)\u001b[0m\u001b[1;33m:\u001b[0m\u001b[1;33m\u001b[0m\u001b[1;33m\u001b[0m\u001b[0m\n\u001b[1;32m----> 2\u001b[1;33m     \u001b[0mprint\u001b[0m\u001b[1;33m(\u001b[0m\u001b[1;34m\"100/\"\u001b[0m\u001b[1;33m,\u001b[0m\u001b[0mi\u001b[0m\u001b[1;33m,\u001b[0m\u001b[1;34m\"-->\"\u001b[0m\u001b[1;33m,\u001b[0m \u001b[1;36m100\u001b[0m\u001b[1;33m/\u001b[0m\u001b[0mi\u001b[0m\u001b[1;33m)\u001b[0m\u001b[1;33m\u001b[0m\u001b[1;33m\u001b[0m\u001b[0m\n\u001b[0m",
      "\u001b[1;31mZeroDivisionError\u001b[0m: division by zero"
     ]
    }
   ],
   "source": [
    "for i in range(-5, 6):\n",
    "    print(\"100/\",i,\"-->\", 100/i)"
   ]
  },
  {
   "cell_type": "markdown",
   "id": "7f01d840",
   "metadata": {},
   "source": [
    "### 2.2: Excepton handling for dividion by zero"
   ]
  },
  {
   "cell_type": "code",
   "execution_count": 38,
   "id": "dc3c8f37",
   "metadata": {},
   "outputs": [
    {
     "name": "stdout",
     "output_type": "stream",
     "text": [
      "100 / -5 --> -20.0\n",
      "100 / -4 --> -25.0\n",
      "100 / -3 --> -33.333333333333336\n",
      "100 / -2 --> -50.0\n",
      "100 / -1 --> -100.0\n",
      "error\n",
      "100 / 1 --> 100.0\n",
      "100 / 2 --> 50.0\n",
      "100 / 3 --> 33.333333333333336\n",
      "100 / 4 --> 25.0\n",
      "100 / 5 --> 20.0\n"
     ]
    }
   ],
   "source": [
    "for i in range(-5, 6):\n",
    "    try:\n",
    "        print(\"100 /\",i, \"-->\", 100/i)\n",
    "    except:\n",
    "        print(\"error\")"
   ]
  },
  {
   "cell_type": "markdown",
   "id": "716b3f59",
   "metadata": {},
   "source": [
    "### 2.3: Error Generation"
   ]
  },
  {
   "cell_type": "code",
   "execution_count": 39,
   "id": "1fc2bac9",
   "metadata": {},
   "outputs": [
    {
     "ename": "NameError",
     "evalue": "name 'x' is not defined",
     "output_type": "error",
     "traceback": [
      "\u001b[1;31m---------------------------------------------------------------------------\u001b[0m",
      "\u001b[1;31mNameError\u001b[0m                                 Traceback (most recent call last)",
      "\u001b[1;32m~\\AppData\\Local\\Temp\\ipykernel_13460\\2930503104.py\u001b[0m in \u001b[0;36m<module>\u001b[1;34m\u001b[0m\n\u001b[1;32m----> 1\u001b[1;33m \u001b[0mprint\u001b[0m\u001b[1;33m(\u001b[0m\u001b[1;34m\"x   -->\"\u001b[0m\u001b[1;33m,\u001b[0m\u001b[0mx\u001b[0m\u001b[1;33m)\u001b[0m\u001b[1;33m\u001b[0m\u001b[1;33m\u001b[0m\u001b[0m\n\u001b[0m",
      "\u001b[1;31mNameError\u001b[0m: name 'x' is not defined"
     ]
    }
   ],
   "source": [
    "print(\"x   -->\",x) "
   ]
  },
  {
   "cell_type": "markdown",
   "id": "dbffa7a1",
   "metadata": {},
   "source": [
    "### 2.4: Exception handling: Variable not Defined"
   ]
  },
  {
   "cell_type": "code",
   "execution_count": 41,
   "id": "d1694088",
   "metadata": {},
   "outputs": [
    {
     "name": "stdout",
     "output_type": "stream",
     "text": [
      "An exception occurred; x is not defined\n"
     ]
    }
   ],
   "source": [
    "try:\n",
    "    print(\"x = \", x)\n",
    "except:\n",
    "    print(\"An exception occurred; x is not defined\")"
   ]
  },
  {
   "cell_type": "markdown",
   "id": "f27ed8d8",
   "metadata": {},
   "source": [
    "### 2.5: Exception handling : else without if"
   ]
  },
  {
   "cell_type": "code",
   "execution_count": 42,
   "id": "652724a5",
   "metadata": {},
   "outputs": [
    {
     "name": "stdout",
     "output_type": "stream",
     "text": [
      "Hello\n",
      "Nothing went wrong\n",
      "\n"
     ]
    }
   ],
   "source": [
    "try:\n",
    "    print(\"Hello\")\n",
    "except:\n",
    "    print(\"Something went wrong\")\n",
    "else:\n",
    "    print(\"Nothing went wrong\\n\")"
   ]
  },
  {
   "cell_type": "markdown",
   "id": "45adfd06",
   "metadata": {},
   "source": [
    "### 2.7: Finally Block\n",
    "    The Finally block gets executed no matter if the try block raises any errors or not :"
   ]
  },
  {
   "cell_type": "code",
   "execution_count": 43,
   "id": "8762df6b",
   "metadata": {},
   "outputs": [
    {
     "name": "stdout",
     "output_type": "stream",
     "text": [
      "Something went wrong\n",
      "The 'try except' is finished\n"
     ]
    }
   ],
   "source": [
    "try:\n",
    "    print(\"x = \", x)\n",
    "except:\n",
    "    print(\"Something went wrong\")\n",
    "finally:\n",
    "    print(\"The 'try except' is finished\")"
   ]
  },
  {
   "cell_type": "markdown",
   "id": "63832867",
   "metadata": {},
   "source": [
    "### 2.8: Exception Handling for array out of index"
   ]
  },
  {
   "cell_type": "code",
   "execution_count": 44,
   "id": "2b3b2e22",
   "metadata": {},
   "outputs": [
    {
     "name": "stdout",
     "output_type": "stream",
     "text": [
      "0 --> 1\n",
      "1 --> 2\n",
      "2 --> 3\n",
      "3 --> 4\n",
      "4 --> 5\n",
      "error\n",
      "error\n",
      "error\n"
     ]
    }
   ],
   "source": [
    "L = [1, 2, 3, 4, 5]\n",
    "\n",
    "for i in range(8):\n",
    "    try:\n",
    "        print(i, \"-->\",L[i])\n",
    "    except:\n",
    "        print(\"error\")"
   ]
  },
  {
   "cell_type": "markdown",
   "id": "fb817d4f",
   "metadata": {},
   "source": [
    "### 2.9: Exception handling for file not found"
   ]
  },
  {
   "cell_type": "code",
   "execution_count": 45,
   "id": "1cadb359",
   "metadata": {},
   "outputs": [
    {
     "name": "stdout",
     "output_type": "stream",
     "text": [
      "Enter File Name : harsh\n"
     ]
    },
    {
     "ename": "FileNotFoundError",
     "evalue": "[Errno 2] No such file or directory: 'harsh'",
     "output_type": "error",
     "traceback": [
      "\u001b[1;31m---------------------------------------------------------------------------\u001b[0m",
      "\u001b[1;31mFileNotFoundError\u001b[0m                         Traceback (most recent call last)",
      "\u001b[1;32m~\\AppData\\Local\\Temp\\ipykernel_13460\\2850562783.py\u001b[0m in \u001b[0;36m<module>\u001b[1;34m\u001b[0m\n\u001b[0;32m      1\u001b[0m \u001b[0mfileName\u001b[0m \u001b[1;33m=\u001b[0m \u001b[0minput\u001b[0m\u001b[1;33m(\u001b[0m\u001b[1;34m\"Enter File Name : \"\u001b[0m\u001b[1;33m)\u001b[0m\u001b[1;33m\u001b[0m\u001b[1;33m\u001b[0m\u001b[0m\n\u001b[1;32m----> 2\u001b[1;33m \u001b[0mfp\u001b[0m \u001b[1;33m=\u001b[0m \u001b[0mopen\u001b[0m\u001b[1;33m(\u001b[0m\u001b[0mfileName\u001b[0m\u001b[1;33m)\u001b[0m\u001b[1;33m\u001b[0m\u001b[1;33m\u001b[0m\u001b[0m\n\u001b[0m\u001b[0;32m      3\u001b[0m \u001b[0mfp\u001b[0m\u001b[1;33m.\u001b[0m\u001b[0mclose\u001b[0m\u001b[1;33m(\u001b[0m\u001b[1;33m)\u001b[0m\u001b[1;33m\u001b[0m\u001b[1;33m\u001b[0m\u001b[0m\n\u001b[0;32m      4\u001b[0m \u001b[0mprint\u001b[0m\u001b[1;33m(\u001b[0m\u001b[1;34m\"Done\"\u001b[0m\u001b[1;33m)\u001b[0m\u001b[1;33m\u001b[0m\u001b[1;33m\u001b[0m\u001b[0m\n",
      "\u001b[1;31mFileNotFoundError\u001b[0m: [Errno 2] No such file or directory: 'harsh'"
     ]
    }
   ],
   "source": [
    "fileName = input(\"Enter File Name : \")\n",
    "fp = open(fileName)\n",
    "fp.close()\n",
    "print(\"Done\")"
   ]
  },
  {
   "cell_type": "code",
   "execution_count": 46,
   "id": "52dfc669",
   "metadata": {},
   "outputs": [
    {
     "name": "stdout",
     "output_type": "stream",
     "text": [
      "Enter File Name : harsh\n",
      "Error !! harsh file not found\n",
      "Done\n"
     ]
    }
   ],
   "source": [
    "fileName = input(\"Enter File Name : \")\n",
    "try:\n",
    "    fp = open(fileName)\n",
    "    fp.close()\n",
    "except:\n",
    "    print(\"Error !! %s file not found\"%(fileName))\n",
    "print(\"Done\")"
   ]
  },
  {
   "cell_type": "markdown",
   "id": "771c4c5d",
   "metadata": {},
   "source": [
    "### 2.11: Exception handling: Input from user"
   ]
  },
  {
   "cell_type": "code",
   "execution_count": 48,
   "id": "72a60fa4",
   "metadata": {},
   "outputs": [
    {
     "name": "stdout",
     "output_type": "stream",
     "text": [
      "Enter first number : 5\n",
      "Enter second number : e\n",
      "\n",
      "Error !! a or b is not of int type !!\n"
     ]
    }
   ],
   "source": [
    "try:\n",
    "    a = int(input(\"Enter first number : \"))\n",
    "    b = int(input(\"Enter second number : \"))\n",
    "    c = a + b\n",
    "    print(a, \"+\", b, \"=\", c)\n",
    "except:\n",
    "    print(\"\\nError !! a or b is not of int type !!\")"
   ]
  },
  {
   "cell_type": "code",
   "execution_count": 50,
   "id": "11db488e",
   "metadata": {},
   "outputs": [
    {
     "name": "stdout",
     "output_type": "stream",
     "text": [
      "Enter first number : 5\n",
      "Enter second number : p\n",
      "\n",
      "Error !! a or b is not of int type !!\n",
      "5 + 9 = 14\n"
     ]
    }
   ],
   "source": [
    "try:\n",
    "    a = int(input(\"Enter first number : \"))\n",
    "except:\n",
    "    print(\"\\nError !! a or b is not of int type !!\")\n",
    "    exit(0)\n",
    "    \n",
    "try:\n",
    "    b = int(input(\"Enter second number : \"))\n",
    "except:\n",
    "    print(\"\\nError !! a or b is not of int type !!\")\n",
    "    exit(0)\n",
    "\n",
    "c = a + b\n",
    "print(a, \"+\", b, \"=\", c)"
   ]
  },
  {
   "cell_type": "markdown",
   "id": "cc292d5d",
   "metadata": {},
   "source": [
    "### 2.12: Raise Exception "
   ]
  },
  {
   "cell_type": "code",
   "execution_count": 1,
   "id": "1ee037eb",
   "metadata": {},
   "outputs": [
    {
     "ename": "Exception",
     "evalue": "Sorry, no numbers below zero",
     "output_type": "error",
     "traceback": [
      "\u001b[1;31m---------------------------------------------------------------------------\u001b[0m",
      "\u001b[1;31mException\u001b[0m                                 Traceback (most recent call last)",
      "\u001b[1;32m~\\AppData\\Local\\Temp\\ipykernel_13924\\2332126942.py\u001b[0m in \u001b[0;36m<module>\u001b[1;34m\u001b[0m\n\u001b[0;32m      1\u001b[0m \u001b[0mx\u001b[0m \u001b[1;33m=\u001b[0m \u001b[1;33m-\u001b[0m\u001b[1;36m1\u001b[0m\u001b[1;33m\u001b[0m\u001b[1;33m\u001b[0m\u001b[0m\n\u001b[0;32m      2\u001b[0m \u001b[1;32mif\u001b[0m \u001b[0mx\u001b[0m \u001b[1;33m<\u001b[0m \u001b[1;36m0\u001b[0m\u001b[1;33m:\u001b[0m\u001b[1;33m\u001b[0m\u001b[1;33m\u001b[0m\u001b[0m\n\u001b[1;32m----> 3\u001b[1;33m     \u001b[1;32mraise\u001b[0m \u001b[0mException\u001b[0m\u001b[1;33m(\u001b[0m\u001b[1;34m\"Sorry, no numbers below zero\"\u001b[0m\u001b[1;33m)\u001b[0m\u001b[1;33m\u001b[0m\u001b[1;33m\u001b[0m\u001b[0m\n\u001b[0m",
      "\u001b[1;31mException\u001b[0m: Sorry, no numbers below zero"
     ]
    }
   ],
   "source": [
    "x = -1\n",
    "if x < 0:\n",
    "    raise Exception(\"Sorry, no numbers below zero\")"
   ]
  },
  {
   "cell_type": "code",
   "execution_count": 3,
   "id": "d98a2bc4",
   "metadata": {},
   "outputs": [
    {
     "ename": "TypeError",
     "evalue": "Only integers are allowed",
     "output_type": "error",
     "traceback": [
      "\u001b[1;31m---------------------------------------------------------------------------\u001b[0m",
      "\u001b[1;31mTypeError\u001b[0m                                 Traceback (most recent call last)",
      "\u001b[1;32m~\\AppData\\Local\\Temp\\ipykernel_13924\\4069950931.py\u001b[0m in \u001b[0;36m<module>\u001b[1;34m\u001b[0m\n\u001b[0;32m      1\u001b[0m \u001b[0mx\u001b[0m \u001b[1;33m=\u001b[0m \u001b[1;34m\"Hello\"\u001b[0m\u001b[1;33m\u001b[0m\u001b[1;33m\u001b[0m\u001b[0m\n\u001b[0;32m      2\u001b[0m \u001b[1;32mif\u001b[0m \u001b[0mtype\u001b[0m\u001b[1;33m(\u001b[0m\u001b[0mx\u001b[0m\u001b[1;33m)\u001b[0m \u001b[1;32mis\u001b[0m \u001b[1;32mnot\u001b[0m \u001b[0mint\u001b[0m\u001b[1;33m:\u001b[0m\u001b[1;33m\u001b[0m\u001b[1;33m\u001b[0m\u001b[0m\n\u001b[1;32m----> 3\u001b[1;33m     \u001b[1;32mraise\u001b[0m \u001b[0mTypeError\u001b[0m\u001b[1;33m(\u001b[0m\u001b[1;34m\"Only integers are allowed\"\u001b[0m\u001b[1;33m)\u001b[0m\u001b[1;33m\u001b[0m\u001b[1;33m\u001b[0m\u001b[0m\n\u001b[0m",
      "\u001b[1;31mTypeError\u001b[0m: Only integers are allowed"
     ]
    }
   ],
   "source": [
    "x = \"Hello\"\n",
    "if type(x) is not int:\n",
    "    raise TypeError(\"Only integers are allowed\")"
   ]
  },
  {
   "cell_type": "code",
   "execution_count": null,
   "id": "d9573b98",
   "metadata": {},
   "outputs": [],
   "source": []
  }
 ],
 "metadata": {
  "kernelspec": {
   "display_name": "Python 3 (ipykernel)",
   "language": "python",
   "name": "python3"
  },
  "language_info": {
   "codemirror_mode": {
    "name": "ipython",
    "version": 3
   },
   "file_extension": ".py",
   "mimetype": "text/x-python",
   "name": "python",
   "nbconvert_exporter": "python",
   "pygments_lexer": "ipython3",
   "version": "3.9.13"
  }
 },
 "nbformat": 4,
 "nbformat_minor": 5
}
